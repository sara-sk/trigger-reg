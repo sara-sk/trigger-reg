{
 "cells": [
  {
   "cell_type": "markdown",
   "metadata": {},
   "source": [
    "# Preparing system"
   ]
  },
  {
   "cell_type": "code",
   "execution_count": 1,
   "metadata": {
    "scrolled": true
   },
   "outputs": [
    {
     "name": "stdout",
     "output_type": "stream",
     "text": [
      "setGPU: Setting GPU to: 1\n"
     ]
    }
   ],
   "source": [
    "import setGPU"
   ]
  },
  {
   "cell_type": "code",
   "execution_count": 2,
   "metadata": {},
   "outputs": [
    {
     "name": "stderr",
     "output_type": "stream",
     "text": [
      "/usr/local/anaconda3/lib/python3.6/site-packages/h5py/__init__.py:36: FutureWarning: Conversion of the second argument of issubdtype from `float` to `np.floating` is deprecated. In future, it will be treated as `np.float64 == np.dtype(float).type`.\n",
      "  from ._conv import register_converters as _register_converters\n"
     ]
    },
    {
     "name": "stdout",
     "output_type": "stream",
     "text": [
      "using gpu memory fraction: 0.4\n"
     ]
    },
    {
     "name": "stderr",
     "output_type": "stream",
     "text": [
      "Using TensorFlow backend.\n"
     ]
    }
   ],
   "source": [
    "# limit GPU usage\n",
    "import sys\n",
    "import tensorflow as tf\n",
    "gpuFraction = 0.4\n",
    "gpu_options = tf.GPUOptions(per_process_gpu_memory_fraction=gpuFraction)\n",
    "sess = tf.Session(config=tf.ConfigProto(gpu_options=gpu_options))\n",
    "import keras\n",
    "from keras import backend as K\n",
    "K.set_session(sess)\n",
    "print('using gpu memory fraction: '+str(gpuFraction))"
   ]
  },
  {
   "cell_type": "code",
   "execution_count": 3,
   "metadata": {},
   "outputs": [],
   "source": [
    "%matplotlib inline"
   ]
  },
  {
   "cell_type": "code",
   "execution_count": 4,
   "metadata": {},
   "outputs": [],
   "source": [
    "import h5py\n",
    "import glob\n",
    "import numpy as np\n"
   ]
  },
  {
   "cell_type": "code",
   "execution_count": 5,
   "metadata": {},
   "outputs": [
    {
     "name": "stdout",
     "output_type": "stream",
     "text": [
      "········\n"
     ]
    },
    {
     "data": {
      "text/plain": [
       "0"
      ]
     },
     "execution_count": 5,
     "metadata": {},
     "output_type": "execute_result"
    }
   ],
   "source": [
    "# need afs password to read from eos\n",
    "import os\n",
    "import getpass\n",
    "os.system(\"echo %s| kinit\" %getpass.getpass())"
   ]
  },
  {
   "cell_type": "markdown",
   "metadata": {},
   "source": [
    "# Import files"
   ]
  },
  {
   "cell_type": "code",
   "execution_count": 6,
   "metadata": {},
   "outputs": [
    {
     "name": "stdout",
     "output_type": "stream",
     "text": [
      "['jetECALImages', 'jetHCALImages', 'jetMomenta', 'jetTrkImages', 'rawJetMomenta', 'trkList']\n"
     ]
    }
   ],
   "source": [
    "# open the new dataset\n",
    "fileIn = h5py.File(\"ZtoNuNu_lepFilter_13TeV_JetImage_3.h5\")\n",
    "#delphesPt = fileIn.get(\"jetSmearedDelphes\")\n",
    "print(list(fileIn.keys()))"
   ]
  },
  {
   "cell_type": "code",
   "execution_count": 7,
   "metadata": {},
   "outputs": [
    {
     "name": "stdout",
     "output_type": "stream",
     "text": [
      "(526218, 25, 25) (526218, 5, 5) (526218, 25, 25) (526218, 50, 3)\n"
     ]
    }
   ],
   "source": [
    "truth = fileIn.get(\"jetMomenta\")\n",
    "raw = fileIn.get(\"rawJetMomenta\")\n",
    "eCal = fileIn.get(\"jetECALImages\")\n",
    "hCal = fileIn.get(\"jetHCALImages\")\n",
    "track = fileIn.get(\"jetTrkImages\")\n",
    "trkList = fileIn.get(\"trkList\")\n",
    "print(eCal.shape, hCal.shape, track.shape, trkList.shape)"
   ]
  },
  {
   "cell_type": "markdown",
   "metadata": {},
   "source": [
    "# image preparations"
   ]
  },
  {
   "cell_type": "code",
   "execution_count": 8,
   "metadata": {},
   "outputs": [
    {
     "name": "stdout",
     "output_type": "stream",
     "text": [
      "(25, 25)\n"
     ]
    }
   ],
   "source": [
    "# eCal\n",
    "sumeCal = np.sum(eCal,axis=0)\n",
    "print(sumeCal.shape)"
   ]
  },
  {
   "cell_type": "code",
   "execution_count": 9,
   "metadata": {},
   "outputs": [
    {
     "name": "stdout",
     "output_type": "stream",
     "text": [
      "(25, 25)\n"
     ]
    }
   ],
   "source": [
    "eCalImage = sumeCal[:,:]\n",
    "print(eCalImage.shape)"
   ]
  },
  {
   "cell_type": "code",
   "execution_count": 10,
   "metadata": {},
   "outputs": [
    {
     "data": {
      "text/plain": [
       "<matplotlib.colorbar.Colorbar at 0x7f2a7cb35b38>"
      ]
     },
     "execution_count": 10,
     "metadata": {},
     "output_type": "execute_result"
    },
    {
     "data": {
      "image/png": "[encoded data removed]",
      "text/plain": [
       "<Figure size 432x288 with 2 Axes>"
      ]
     },
     "metadata": {},
     "output_type": "display_data"
    }
   ],
   "source": [
    "import matplotlib.pyplot as plt\n",
    "plt.imshow(eCalImage/eCalImage.shape[0], extent=[0, 20, 0, 20], origin='lower')\n",
    "plt.colorbar()"
   ]
  },
  {
   "cell_type": "code",
   "execution_count": 11,
   "metadata": {},
   "outputs": [
    {
     "name": "stdout",
     "output_type": "stream",
     "text": [
      "(5, 5)\n"
     ]
    }
   ],
   "source": [
    "# hCal\n",
    "sumhCal = np.sum(hCal,axis=0)\n",
    "print(sumhCal.shape)"
   ]
  },
  {
   "cell_type": "code",
   "execution_count": 12,
   "metadata": {},
   "outputs": [
    {
     "name": "stdout",
     "output_type": "stream",
     "text": [
      "(5, 5)\n"
     ]
    }
   ],
   "source": [
    "hCalImage = sumhCal[:,:]\n",
    "print(hCalImage.shape)"
   ]
  },
  {
   "cell_type": "code",
   "execution_count": 13,
   "metadata": {},
   "outputs": [
    {
     "data": {
      "text/plain": [
       "<matplotlib.colorbar.Colorbar at 0x7f2a7ca8a940>"
      ]
     },
     "execution_count": 13,
     "metadata": {},
     "output_type": "execute_result"
    },
    {
     "data": {
      "image/png": "[encoded data removed]",
      "text/plain": [
       "<Figure size 432x288 with 2 Axes>"
      ]
     },
     "metadata": {},
     "output_type": "display_data"
    }
   ],
   "source": [
    "plt.imshow(hCalImage/(hCalImage.shape[0]), extent=[0, 5, 0, 5], origin='lower')\n",
    "plt.colorbar()"
   ]
  },
  {
   "cell_type": "code",
   "execution_count": 14,
   "metadata": {},
   "outputs": [
    {
     "name": "stdout",
     "output_type": "stream",
     "text": [
      "(25, 25)\n"
     ]
    }
   ],
   "source": [
    "# trk\n",
    "sumTrk= np.sum(track,axis=0)\n",
    "print(sumTrk.shape)"
   ]
  },
  {
   "cell_type": "code",
   "execution_count": 15,
   "metadata": {},
   "outputs": [
    {
     "name": "stdout",
     "output_type": "stream",
     "text": [
      "(25, 25)\n"
     ]
    }
   ],
   "source": [
    "trkImage = sumTrk[:,:]\n",
    "print(trkImage.shape)"
   ]
  },
  {
   "cell_type": "code",
   "execution_count": 16,
   "metadata": {},
   "outputs": [
    {
     "data": {
      "text/plain": [
       "<matplotlib.colorbar.Colorbar at 0x7f2a7c9a3b00>"
      ]
     },
     "execution_count": 16,
     "metadata": {},
     "output_type": "execute_result"
    },
    {
     "data": {
      "image/png": "[encoded data removed]",
      "text/plain": [
       "<Figure size 432x288 with 2 Axes>"
      ]
     },
     "metadata": {},
     "output_type": "display_data"
    }
   ],
   "source": [
    "plt.imshow(trkImage/trkImage.shape[0], extent=[0, 20, 0, 20], origin='lower')\n",
    "plt.colorbar()"
   ]
  },
  {
   "cell_type": "markdown",
   "metadata": {},
   "source": [
    "# Prepare train and test samples\n",
    "\n"
   ]
  },
  {
   "cell_type": "code",
   "execution_count": 17,
   "metadata": {},
   "outputs": [
    {
     "name": "stdout",
     "output_type": "stream",
     "text": [
      "MinMaxScaler(copy=True, feature_range=(0, 1))\n"
     ]
    }
   ],
   "source": [
    "from sklearn.preprocessing import MinMaxScaler\n",
    "# normalize raw inputs and outputs between 0 and 1\n",
    "scaler = MinMaxScaler()\n",
    "print(scaler.fit(raw))\n",
    "maxVal = scaler.data_max_\n",
    "minVal = scaler.data_min_\n",
    "raw = (raw-minVal)/(maxVal-minVal)\n",
    "truth = (truth-minVal)/(maxVal-minVal)"
   ]
  },
  {
   "cell_type": "code",
   "execution_count": 18,
   "metadata": {},
   "outputs": [],
   "source": [
    "truth = truth[:,0]\n",
    "truth = np.reshape(truth, (truth.shape[0], 1))"
   ]
  },
  {
   "cell_type": "code",
   "execution_count": 19,
   "metadata": {},
   "outputs": [],
   "source": [
    "iSplit = int(0.7*truth.shape[0])\n",
    "eCal_image_train = eCal[:iSplit, :, :]\n",
    "eCal_image_test = eCal[iSplit:, :, :]\n",
    "hCal_image_train = hCal[:iSplit, :, :]\n",
    "hCal_image_test = hCal[iSplit:, :, :]\n",
    "trk_image_train = track[:iSplit, :, :]\n",
    "trk_image_test = track[iSplit:, :, :]\n",
    "lst_train = trkList[:iSplit, :, :]\n",
    "lst_test = trkList[iSplit:,:,:]\n",
    "raw_train = raw[:iSplit, :]\n",
    "raw_test = raw[iSplit:, :]\n",
    "y_train = truth[:iSplit, :]\n",
    "y_test = truth[iSplit:, :]"
   ]
  },
  {
   "cell_type": "code",
   "execution_count": 20,
   "metadata": {},
   "outputs": [],
   "source": [
    "eCal_image_test = np.reshape(eCal_image_test, (eCal_image_test.shape[0], eCal_image_test.shape[1],\n",
    "                                         eCal_image_test.shape[2], 1))\n",
    "eCal_image_train = np.reshape(eCal_image_train, (eCal_image_train.shape[0], eCal_image_train.shape[1],\n",
    "                                           eCal_image_train.shape[2], 1))"
   ]
  },
  {
   "cell_type": "code",
   "execution_count": 21,
   "metadata": {},
   "outputs": [],
   "source": [
    "hCal_image_test = np.reshape(hCal_image_test, (hCal_image_test.shape[0], hCal_image_test.shape[1],\n",
    "                                         hCal_image_test.shape[2], 1))\n",
    "hCal_image_train = np.reshape(hCal_image_train, (hCal_image_train.shape[0], hCal_image_train.shape[1],\n",
    "                                           hCal_image_train.shape[2], 1))"
   ]
  },
  {
   "cell_type": "code",
   "execution_count": 22,
   "metadata": {},
   "outputs": [],
   "source": [
    "trk_image_test = np.reshape(trk_image_test, (trk_image_test.shape[0], trk_image_test.shape[1],\n",
    "                                         trk_image_test.shape[2], 1))\n",
    "trk_image_train = np.reshape(trk_image_train, (trk_image_train.shape[0], trk_image_train.shape[1],\n",
    "                                           trk_image_train.shape[2], 1))"
   ]
  },
  {
   "cell_type": "code",
   "execution_count": 23,
   "metadata": {},
   "outputs": [],
   "source": [
    "lst_test = np.reshape(lst_test, (lst_test.shape[0], lst_test.shape[1],\n",
    "                                         lst_test.shape[2], 1))\n",
    "lst_train = np.reshape(lst_train, (lst_train.shape[0], lst_train.shape[1],\n",
    "                                           lst_train.shape[2], 1))"
   ]
  },
  {
   "cell_type": "markdown",
   "metadata": {},
   "source": [
    "# build the model"
   ]
  },
  {
   "cell_type": "code",
   "execution_count": 24,
   "metadata": {},
   "outputs": [],
   "source": [
    "# keras imports\n",
    "from keras.models import Model\n",
    "from keras.layers import Dense, Input, Conv2D, Conv1D, Dropout, Flatten, Concatenate, Reshape, BatchNormalization\n",
    "from keras.layers import MaxPooling2D, MaxPooling3D, GRU\n",
    "from keras.utils import plot_model\n",
    "from keras import regularizers\n",
    "from keras import backend as K\n",
    "from keras import metrics\n",
    "from keras.callbacks import EarlyStopping, ReduceLROnPlateau, TerminateOnNaN"
   ]
  },
  {
   "cell_type": "code",
   "execution_count": 25,
   "metadata": {},
   "outputs": [],
   "source": [
    "batch_size = 128"
   ]
  },
  {
   "cell_type": "code",
   "execution_count": 26,
   "metadata": {
    "scrolled": false
   },
   "outputs": [],
   "source": [
    "InputRaw = Input(shape=(4,))\n",
    "inputeCal = Input(shape=(25,25,1))\n",
    "inputhCal = Input(shape=(5,5,1))\n",
    "inputTrk = Input(shape=(25,25,1))\n",
    "inputList = Input(shape=(50,3,1))"
   ]
  },
  {
   "cell_type": "code",
   "execution_count": 27,
   "metadata": {},
   "outputs": [],
   "source": [
    "x2 = BatchNormalization()(InputRaw)"
   ]
  },
  {
   "cell_type": "code",
   "execution_count": 28,
   "metadata": {},
   "outputs": [],
   "source": [
    "e = BatchNormalization()(inputeCal)\n",
    "e = Conv2D(30, kernel_size=(3, 3), activation='selu', data_format=\"channels_last\", strides=(1, 1), input_shape=(25,25,1))(e)\n",
    "e = Dropout(0.25)(e)\n",
    "e = Conv2D(20, kernel_size=(3,3), strides=(1,1), activation='selu')(e)\n",
    "e = Dropout(0.25)(e)\n",
    "e = Flatten()(e)\n",
    "\n",
    "h = BatchNormalization()(inputhCal)\n",
    "h = Conv2D(20, kernel_size=(3, 3), data_format=\"channels_last\", strides=(3, 3), activation='selu', input_shape=(5,5,1))(h)\n",
    "h = Dropout(0.25)(h)\n",
    "#h = Reshape((1, 1), input_shape=(1, 1, 1))(h)\n",
    "h = Flatten()(h)"
   ]
  },
  {
   "cell_type": "code",
   "execution_count": 29,
   "metadata": {},
   "outputs": [],
   "source": [
    "t = BatchNormalization()(inputTrk)\n",
    "t = Conv2D(30, kernel_size=(3, 3), data_format=\"channels_last\", strides=(3, 3), activation='relu', input_shape=(25,25,1))(t)\n",
    "t = Dropout(0.25)(t)\n",
    "#t = Reshape((8, 8), input_shape=(8, 8, 1))(t)\n",
    "t = Conv2D(20, kernel_size=(3,3), strides=(3, 3), activation='relu')(t)\n",
    "t = Dropout(0.25)(t)\n",
    "t = Flatten()(t)"
   ]
  },
  {
   "cell_type": "code",
   "execution_count": 30,
   "metadata": {},
   "outputs": [],
   "source": [
    "tl1 = BatchNormalization()(inputList)\n",
    "tl1 = Conv2D(2, kernel_size=(1,3), strides=(1,3),activation='selu',padding='same')(tl1)\n",
    "tl1 = Dropout(0.25)(tl1)\n",
    "tl1 = Conv2D(1, kernel_size=(1,2), strides=(1,2),activation='selu',padding='same')(tl1)\n",
    "tl1 = Dropout(0.25)(tl1)\n",
    "tl1 = Flatten()(tl1)"
   ]
  },
  {
   "cell_type": "code",
   "execution_count": 31,
   "metadata": {},
   "outputs": [
    {
     "name": "stdout",
     "output_type": "stream",
     "text": [
      "(?, 50, 3, 1)\n"
     ]
    }
   ],
   "source": [
    "tlg = BatchNormalization()(inputList)\n",
    "print(tlg.shape)\n",
    "# first inner later\n",
    "tlg = Reshape((50,3))(tlg)\n",
    "tlg = GRU(3, activation='selu', recurrent_activation='hard_sigmoid')(tlg)"
   ]
  },
  {
   "cell_type": "code",
   "execution_count": 32,
   "metadata": {},
   "outputs": [],
   "source": [
    "denseImg = Concatenate(axis=1)([x2, e, h, t])\n",
    "denseImg = Dense(20, activation='selu')(denseImg)\n",
    "denseImg = Dropout(0.25)(denseImg)\n",
    "denseImg = Dense(10, activation='selu')(denseImg)\n",
    "denseImg = Dropout(0.25)(denseImg)\n",
    "outputImg = Dense(1, activation='linear')(denseImg)"
   ]
  },
  {
   "cell_type": "code",
   "execution_count": 33,
   "metadata": {},
   "outputs": [],
   "source": [
    "denseConv = Concatenate(axis=1)([x2, e, h, tl1])\n",
    "denseConv = Dense(20, activation='selu')(denseConv)\n",
    "denseConv = Dropout(0.25)(denseConv)\n",
    "denseConv = Dense(10, activation='selu')(denseConv)\n",
    "denseConv = Dropout(0.25)(denseConv)\n",
    "outputConv = Dense(1, activation='linear')(denseConv)"
   ]
  },
  {
   "cell_type": "code",
   "execution_count": 34,
   "metadata": {},
   "outputs": [],
   "source": [
    "denseGRU = Concatenate(axis=1)([x2, e, h, tlg])\n",
    "denseGRU = Dense(20, activation='selu')(denseGRU)\n",
    "denseGRU = Dropout(0.25)(denseGRU)\n",
    "denseGRU = Dense(10, activation='selu')(denseGRU)\n",
    "denseGRU = Dropout(0.25)(denseGRU)\n",
    "outputGRU = Dense(1, activation='linear')(denseGRU)"
   ]
  },
  {
   "cell_type": "code",
   "execution_count": 35,
   "metadata": {},
   "outputs": [],
   "source": [
    "modelImg = Model(inputs=[InputRaw,inputeCal, inputhCal, inputTrk, inputList], outputs=outputImg)"
   ]
  },
  {
   "cell_type": "code",
   "execution_count": 36,
   "metadata": {},
   "outputs": [],
   "source": [
    "modelConv = Model(inputs=[InputRaw,inputeCal, inputhCal, inputTrk, inputList], outputs=outputConv)"
   ]
  },
  {
   "cell_type": "code",
   "execution_count": 37,
   "metadata": {},
   "outputs": [],
   "source": [
    "modelGRU = Model(inputs=[InputRaw,inputeCal, inputhCal, inputTrk, inputList], outputs=outputGRU)"
   ]
  },
  {
   "cell_type": "code",
   "execution_count": 38,
   "metadata": {
    "scrolled": true
   },
   "outputs": [
    {
     "name": "stdout",
     "output_type": "stream",
     "text": [
      "__________________________________________________________________________________________________\n",
      "Layer (type)                    Output Shape         Param #     Connected to                     \n",
      "==================================================================================================\n",
      "input_2 (InputLayer)            (None, 25, 25, 1)    0                                            \n",
      "__________________________________________________________________________________________________\n",
      "input_4 (InputLayer)            (None, 25, 25, 1)    0                                            \n",
      "__________________________________________________________________________________________________\n",
      "batch_normalization_2 (BatchNor (None, 25, 25, 1)    4           input_2[0][0]                    \n",
      "__________________________________________________________________________________________________\n",
      "batch_normalization_4 (BatchNor (None, 25, 25, 1)    4           input_4[0][0]                    \n",
      "__________________________________________________________________________________________________\n",
      "conv2d_1 (Conv2D)               (None, 23, 23, 30)   300         batch_normalization_2[0][0]      \n",
      "__________________________________________________________________________________________________\n",
      "input_3 (InputLayer)            (None, 5, 5, 1)      0                                            \n",
      "__________________________________________________________________________________________________\n",
      "conv2d_4 (Conv2D)               (None, 8, 8, 30)     300         batch_normalization_4[0][0]      \n",
      "__________________________________________________________________________________________________\n",
      "dropout_1 (Dropout)             (None, 23, 23, 30)   0           conv2d_1[0][0]                   \n",
      "__________________________________________________________________________________________________\n",
      "batch_normalization_3 (BatchNor (None, 5, 5, 1)      4           input_3[0][0]                    \n",
      "__________________________________________________________________________________________________\n",
      "dropout_4 (Dropout)             (None, 8, 8, 30)     0           conv2d_4[0][0]                   \n",
      "__________________________________________________________________________________________________\n",
      "conv2d_2 (Conv2D)               (None, 21, 21, 20)   5420        dropout_1[0][0]                  \n",
      "__________________________________________________________________________________________________\n",
      "conv2d_3 (Conv2D)               (None, 1, 1, 20)     200         batch_normalization_3[0][0]      \n",
      "__________________________________________________________________________________________________\n",
      "conv2d_5 (Conv2D)               (None, 2, 2, 20)     5420        dropout_4[0][0]                  \n",
      "__________________________________________________________________________________________________\n",
      "input_1 (InputLayer)            (None, 4)            0                                            \n",
      "__________________________________________________________________________________________________\n",
      "dropout_2 (Dropout)             (None, 21, 21, 20)   0           conv2d_2[0][0]                   \n",
      "__________________________________________________________________________________________________\n",
      "dropout_3 (Dropout)             (None, 1, 1, 20)     0           conv2d_3[0][0]                   \n",
      "__________________________________________________________________________________________________\n",
      "dropout_5 (Dropout)             (None, 2, 2, 20)     0           conv2d_5[0][0]                   \n",
      "__________________________________________________________________________________________________\n",
      "batch_normalization_1 (BatchNor (None, 4)            16          input_1[0][0]                    \n",
      "__________________________________________________________________________________________________\n",
      "flatten_1 (Flatten)             (None, 8820)         0           dropout_2[0][0]                  \n",
      "__________________________________________________________________________________________________\n",
      "flatten_2 (Flatten)             (None, 20)           0           dropout_3[0][0]                  \n",
      "__________________________________________________________________________________________________\n",
      "flatten_3 (Flatten)             (None, 80)           0           dropout_5[0][0]                  \n",
      "__________________________________________________________________________________________________\n",
      "concatenate_1 (Concatenate)     (None, 8924)         0           batch_normalization_1[0][0]      \n",
      "                                                                 flatten_1[0][0]                  \n",
      "                                                                 flatten_2[0][0]                  \n",
      "                                                                 flatten_3[0][0]                  \n",
      "__________________________________________________________________________________________________\n",
      "dense_1 (Dense)                 (None, 20)           178500      concatenate_1[0][0]              \n",
      "__________________________________________________________________________________________________\n",
      "dropout_8 (Dropout)             (None, 20)           0           dense_1[0][0]                    \n",
      "__________________________________________________________________________________________________\n",
      "dense_2 (Dense)                 (None, 10)           210         dropout_8[0][0]                  \n",
      "__________________________________________________________________________________________________\n",
      "dropout_9 (Dropout)             (None, 10)           0           dense_2[0][0]                    \n",
      "__________________________________________________________________________________________________\n",
      "dense_3 (Dense)                 (None, 1)            11          dropout_9[0][0]                  \n",
      "==================================================================================================\n",
      "Total params: 190,389\n",
      "Trainable params: 190,375\n",
      "Non-trainable params: 14\n",
      "__________________________________________________________________________________________________\n"
     ]
    }
   ],
   "source": [
    "modelImg.compile(loss='mse', optimizer='adam')\n",
    "modelImg.summary()"
   ]
  },
  {
   "cell_type": "code",
   "execution_count": 39,
   "metadata": {
    "scrolled": true
   },
   "outputs": [
    {
     "name": "stdout",
     "output_type": "stream",
     "text": [
      "__________________________________________________________________________________________________\n",
      "Layer (type)                    Output Shape         Param #     Connected to                     \n",
      "==================================================================================================\n",
      "input_2 (InputLayer)            (None, 25, 25, 1)    0                                            \n",
      "__________________________________________________________________________________________________\n",
      "input_5 (InputLayer)            (None, 50, 3, 1)     0                                            \n",
      "__________________________________________________________________________________________________\n",
      "batch_normalization_2 (BatchNor (None, 25, 25, 1)    4           input_2[0][0]                    \n",
      "__________________________________________________________________________________________________\n",
      "batch_normalization_5 (BatchNor (None, 50, 3, 1)     4           input_5[0][0]                    \n",
      "__________________________________________________________________________________________________\n",
      "conv2d_1 (Conv2D)               (None, 23, 23, 30)   300         batch_normalization_2[0][0]      \n",
      "__________________________________________________________________________________________________\n",
      "input_3 (InputLayer)            (None, 5, 5, 1)      0                                            \n",
      "__________________________________________________________________________________________________\n",
      "conv2d_6 (Conv2D)               (None, 50, 1, 2)     8           batch_normalization_5[0][0]      \n",
      "__________________________________________________________________________________________________\n",
      "dropout_1 (Dropout)             (None, 23, 23, 30)   0           conv2d_1[0][0]                   \n",
      "__________________________________________________________________________________________________\n",
      "batch_normalization_3 (BatchNor (None, 5, 5, 1)      4           input_3[0][0]                    \n",
      "__________________________________________________________________________________________________\n",
      "dropout_6 (Dropout)             (None, 50, 1, 2)     0           conv2d_6[0][0]                   \n",
      "__________________________________________________________________________________________________\n",
      "conv2d_2 (Conv2D)               (None, 21, 21, 20)   5420        dropout_1[0][0]                  \n",
      "__________________________________________________________________________________________________\n",
      "conv2d_3 (Conv2D)               (None, 1, 1, 20)     200         batch_normalization_3[0][0]      \n",
      "__________________________________________________________________________________________________\n",
      "conv2d_7 (Conv2D)               (None, 50, 1, 1)     5           dropout_6[0][0]                  \n",
      "__________________________________________________________________________________________________\n",
      "input_1 (InputLayer)            (None, 4)            0                                            \n",
      "__________________________________________________________________________________________________\n",
      "dropout_2 (Dropout)             (None, 21, 21, 20)   0           conv2d_2[0][0]                   \n",
      "__________________________________________________________________________________________________\n",
      "dropout_3 (Dropout)             (None, 1, 1, 20)     0           conv2d_3[0][0]                   \n",
      "__________________________________________________________________________________________________\n",
      "dropout_7 (Dropout)             (None, 50, 1, 1)     0           conv2d_7[0][0]                   \n",
      "__________________________________________________________________________________________________\n",
      "batch_normalization_1 (BatchNor (None, 4)            16          input_1[0][0]                    \n",
      "__________________________________________________________________________________________________\n",
      "flatten_1 (Flatten)             (None, 8820)         0           dropout_2[0][0]                  \n",
      "__________________________________________________________________________________________________\n",
      "flatten_2 (Flatten)             (None, 20)           0           dropout_3[0][0]                  \n",
      "__________________________________________________________________________________________________\n",
      "flatten_4 (Flatten)             (None, 50)           0           dropout_7[0][0]                  \n",
      "__________________________________________________________________________________________________\n",
      "concatenate_2 (Concatenate)     (None, 8894)         0           batch_normalization_1[0][0]      \n",
      "                                                                 flatten_1[0][0]                  \n",
      "                                                                 flatten_2[0][0]                  \n",
      "                                                                 flatten_4[0][0]                  \n",
      "__________________________________________________________________________________________________\n",
      "dense_4 (Dense)                 (None, 20)           177900      concatenate_2[0][0]              \n",
      "__________________________________________________________________________________________________\n",
      "dropout_10 (Dropout)            (None, 20)           0           dense_4[0][0]                    \n",
      "__________________________________________________________________________________________________\n",
      "dense_5 (Dense)                 (None, 10)           210         dropout_10[0][0]                 \n",
      "__________________________________________________________________________________________________\n",
      "dropout_11 (Dropout)            (None, 10)           0           dense_5[0][0]                    \n",
      "__________________________________________________________________________________________________\n",
      "dense_6 (Dense)                 (None, 1)            11          dropout_11[0][0]                 \n",
      "==================================================================================================\n",
      "Total params: 184,082\n",
      "Trainable params: 184,068\n",
      "Non-trainable params: 14\n",
      "__________________________________________________________________________________________________\n"
     ]
    }
   ],
   "source": [
    "modelConv.compile(loss='mse', optimizer='adam')\n",
    "modelConv.summary()"
   ]
  },
  {
   "cell_type": "code",
   "execution_count": 40,
   "metadata": {
    "scrolled": true
   },
   "outputs": [
    {
     "name": "stdout",
     "output_type": "stream",
     "text": [
      "__________________________________________________________________________________________________\n",
      "Layer (type)                    Output Shape         Param #     Connected to                     \n",
      "==================================================================================================\n",
      "input_2 (InputLayer)            (None, 25, 25, 1)    0                                            \n",
      "__________________________________________________________________________________________________\n",
      "batch_normalization_2 (BatchNor (None, 25, 25, 1)    4           input_2[0][0]                    \n",
      "__________________________________________________________________________________________________\n",
      "conv2d_1 (Conv2D)               (None, 23, 23, 30)   300         batch_normalization_2[0][0]      \n",
      "__________________________________________________________________________________________________\n",
      "input_3 (InputLayer)            (None, 5, 5, 1)      0                                            \n",
      "__________________________________________________________________________________________________\n",
      "dropout_1 (Dropout)             (None, 23, 23, 30)   0           conv2d_1[0][0]                   \n",
      "__________________________________________________________________________________________________\n",
      "batch_normalization_3 (BatchNor (None, 5, 5, 1)      4           input_3[0][0]                    \n",
      "__________________________________________________________________________________________________\n",
      "input_5 (InputLayer)            (None, 50, 3, 1)     0                                            \n",
      "__________________________________________________________________________________________________\n",
      "conv2d_2 (Conv2D)               (None, 21, 21, 20)   5420        dropout_1[0][0]                  \n",
      "__________________________________________________________________________________________________\n",
      "conv2d_3 (Conv2D)               (None, 1, 1, 20)     200         batch_normalization_3[0][0]      \n",
      "__________________________________________________________________________________________________\n",
      "batch_normalization_6 (BatchNor (None, 50, 3, 1)     4           input_5[0][0]                    \n",
      "__________________________________________________________________________________________________\n",
      "input_1 (InputLayer)            (None, 4)            0                                            \n",
      "__________________________________________________________________________________________________\n",
      "dropout_2 (Dropout)             (None, 21, 21, 20)   0           conv2d_2[0][0]                   \n",
      "__________________________________________________________________________________________________\n",
      "dropout_3 (Dropout)             (None, 1, 1, 20)     0           conv2d_3[0][0]                   \n",
      "__________________________________________________________________________________________________\n",
      "reshape_1 (Reshape)             (None, 50, 3)        0           batch_normalization_6[0][0]      \n",
      "__________________________________________________________________________________________________\n",
      "batch_normalization_1 (BatchNor (None, 4)            16          input_1[0][0]                    \n",
      "__________________________________________________________________________________________________\n",
      "flatten_1 (Flatten)             (None, 8820)         0           dropout_2[0][0]                  \n",
      "__________________________________________________________________________________________________\n",
      "flatten_2 (Flatten)             (None, 20)           0           dropout_3[0][0]                  \n",
      "__________________________________________________________________________________________________\n",
      "gru_1 (GRU)                     (None, 3)            63          reshape_1[0][0]                  \n",
      "__________________________________________________________________________________________________\n",
      "concatenate_3 (Concatenate)     (None, 8847)         0           batch_normalization_1[0][0]      \n",
      "                                                                 flatten_1[0][0]                  \n",
      "                                                                 flatten_2[0][0]                  \n",
      "                                                                 gru_1[0][0]                      \n",
      "__________________________________________________________________________________________________\n",
      "dense_7 (Dense)                 (None, 20)           176960      concatenate_3[0][0]              \n",
      "__________________________________________________________________________________________________\n",
      "dropout_12 (Dropout)            (None, 20)           0           dense_7[0][0]                    \n",
      "__________________________________________________________________________________________________\n",
      "dense_8 (Dense)                 (None, 10)           210         dropout_12[0][0]                 \n",
      "__________________________________________________________________________________________________\n",
      "dropout_13 (Dropout)            (None, 10)           0           dense_8[0][0]                    \n",
      "__________________________________________________________________________________________________\n",
      "dense_9 (Dense)                 (None, 1)            11          dropout_13[0][0]                 \n",
      "==================================================================================================\n",
      "Total params: 183,192\n",
      "Trainable params: 183,178\n",
      "Non-trainable params: 14\n",
      "__________________________________________________________________________________________________\n"
     ]
    }
   ],
   "source": [
    "modelGRU.compile(loss='mse', optimizer='adam')\n",
    "modelGRU.summary()"
   ]
  },
  {
   "cell_type": "code",
   "execution_count": 41,
   "metadata": {
    "scrolled": true
   },
   "outputs": [
    {
     "name": "stdout",
     "output_type": "stream",
     "text": [
      "Train on 368352 samples, validate on 157866 samples\n",
      "Epoch 1/100\n",
      "368352/368352 [==============================] - 46s 124us/step - loss: 0.0047 - val_loss: 8.9369e-05\n",
      "Epoch 2/100\n",
      "368352/368352 [==============================] - 44s 120us/step - loss: 1.8000e-04 - val_loss: 6.9523e-05\n",
      "Epoch 3/100\n",
      "368352/368352 [==============================] - 43s 115us/step - loss: 1.6696e-04 - val_loss: 6.0163e-05\n",
      "\n",
      "Epoch 00003: ReduceLROnPlateau reducing learning rate to 0.00010000000474974513.\n",
      "Epoch 4/100\n",
      "368352/368352 [==============================] - 44s 119us/step - loss: 1.2998e-04 - val_loss: 5.2477e-05\n",
      "Epoch 5/100\n",
      "368352/368352 [==============================] - 44s 119us/step - loss: 1.2770e-04 - val_loss: 5.6596e-05\n",
      "\n",
      "Epoch 00005: ReduceLROnPlateau reducing learning rate to 1.0000000474974514e-05.\n",
      "Epoch 6/100\n",
      "368352/368352 [==============================] - 44s 119us/step - loss: 1.2122e-04 - val_loss: 5.2981e-05\n",
      "Epoch 7/100\n",
      "368352/368352 [==============================] - 45s 121us/step - loss: 1.2200e-04 - val_loss: 5.2926e-05\n",
      "\n",
      "Epoch 00007: ReduceLROnPlateau reducing learning rate to 1.0000000656873453e-06.\n",
      "Epoch 8/100\n",
      "368352/368352 [==============================] - 44s 119us/step - loss: 1.2226e-04 - val_loss: 5.3218e-05\n",
      "Epoch 9/100\n",
      "368352/368352 [==============================] - 43s 117us/step - loss: 1.2068e-04 - val_loss: 5.2424e-05\n",
      "\n",
      "Epoch 00009: ReduceLROnPlateau reducing learning rate to 1.0000001111620805e-07.\n",
      "Epoch 10/100\n",
      "368352/368352 [==============================] - 44s 119us/step - loss: 1.2145e-04 - val_loss: 5.3081e-05\n",
      "Epoch 11/100\n",
      "368352/368352 [==============================] - 43s 118us/step - loss: 1.2249e-04 - val_loss: 5.3146e-05\n",
      "\n",
      "Epoch 00011: ReduceLROnPlateau reducing learning rate to 1.000000082740371e-08.\n",
      "Epoch 12/100\n",
      "368352/368352 [==============================] - 44s 118us/step - loss: 1.2254e-04 - val_loss: 5.1840e-05\n",
      "Epoch 13/100\n",
      "368352/368352 [==============================] - 42s 115us/step - loss: 1.2117e-04 - val_loss: 5.1968e-05\n",
      "\n",
      "Epoch 00013: ReduceLROnPlateau reducing learning rate to 1.000000082740371e-09.\n",
      "Epoch 14/100\n",
      "368352/368352 [==============================] - 44s 118us/step - loss: 1.2256e-04 - val_loss: 5.4180e-05\n",
      "Epoch 15/100\n",
      "368352/368352 [==============================] - 43s 116us/step - loss: 1.2124e-04 - val_loss: 5.3211e-05\n",
      "\n",
      "Epoch 00015: ReduceLROnPlateau reducing learning rate to 1.000000082740371e-10.\n",
      "Epoch 16/100\n",
      "368352/368352 [==============================] - 44s 120us/step - loss: 1.2135e-04 - val_loss: 5.2191e-05\n",
      "Epoch 17/100\n",
      "368352/368352 [==============================] - 43s 116us/step - loss: 1.2010e-04 - val_loss: 5.5016e-05\n",
      "\n",
      "Epoch 00017: ReduceLROnPlateau reducing learning rate to 1.000000082740371e-11.\n",
      "Epoch 18/100\n",
      "368352/368352 [==============================] - 44s 118us/step - loss: 1.2200e-04 - val_loss: 5.1788e-05\n",
      "Epoch 19/100\n",
      "368352/368352 [==============================] - 44s 118us/step - loss: 1.2144e-04 - val_loss: 5.2451e-05\n",
      "\n",
      "Epoch 00019: ReduceLROnPlateau reducing learning rate to 1.000000082740371e-12.\n",
      "Epoch 20/100\n",
      "368352/368352 [==============================] - 42s 115us/step - loss: 1.2015e-04 - val_loss: 5.3609e-05\n",
      "Epoch 21/100\n",
      "368352/368352 [==============================] - 43s 117us/step - loss: 1.2091e-04 - val_loss: 5.2933e-05\n",
      "\n",
      "Epoch 00021: ReduceLROnPlateau reducing learning rate to 1.0000001044244145e-13.\n",
      "Epoch 22/100\n",
      "368352/368352 [==============================] - 44s 120us/step - loss: 1.2275e-04 - val_loss: 5.3041e-05\n",
      "Epoch 23/100\n",
      "368352/368352 [==============================] - 43s 116us/step - loss: 1.2251e-04 - val_loss: 5.3297e-05\n",
      "\n",
      "Epoch 00023: ReduceLROnPlateau reducing learning rate to 1.0000001179769417e-14.\n",
      "Epoch 24/100\n",
      "368352/368352 [==============================] - 44s 119us/step - loss: 1.1977e-04 - val_loss: 5.2302e-05\n",
      "Epoch 25/100\n",
      "368352/368352 [==============================] - 45s 121us/step - loss: 1.2153e-04 - val_loss: 5.2616e-05\n",
      "\n",
      "Epoch 00025: ReduceLROnPlateau reducing learning rate to 1.0000001518582595e-15.\n",
      "Epoch 26/100\n",
      "368352/368352 [==============================] - 48s 131us/step - loss: 1.1942e-04 - val_loss: 5.2430e-05\n",
      "Epoch 27/100\n",
      "368352/368352 [==============================] - 44s 119us/step - loss: 1.2191e-04 - val_loss: 5.2479e-05\n",
      "\n",
      "Epoch 00027: ReduceLROnPlateau reducing learning rate to 1.0000001095066122e-16.\n",
      "Epoch 28/100\n",
      "368352/368352 [==============================] - 43s 118us/step - loss: 1.2334e-04 - val_loss: 5.2320e-05\n",
      "Epoch 00028: early stopping\n"
     ]
    }
   ],
   "source": [
    "# train \n",
    "historyImg = modelImg.fit([raw_train, eCal_image_train, hCal_image_train, trk_image_train, lst_train], y_train, epochs=100, batch_size=batch_size, verbose = 1,\n",
    "                validation_data=([raw_test, eCal_image_test, hCal_image_test, trk_image_test, lst_test], y_test),\n",
    "                callbacks = [\n",
    "                EarlyStopping(monitor='val_loss', patience=10, verbose=1),\n",
    "                ReduceLROnPlateau(monitor='val_loss', factor=0.1, patience=2, verbose=1),\n",
    "                TerminateOnNaN()])"
   ]
  },
  {
   "cell_type": "code",
   "execution_count": 42,
   "metadata": {
    "scrolled": true
   },
   "outputs": [
    {
     "name": "stdout",
     "output_type": "stream",
     "text": [
      "Train on 368352 samples, validate on 157866 samples\n",
      "Epoch 1/100\n",
      "368352/368352 [==============================] - 41s 111us/step - loss: 4.1143e-04 - val_loss: 6.8379e-05\n",
      "Epoch 2/100\n",
      "368352/368352 [==============================] - 41s 111us/step - loss: 1.5297e-04 - val_loss: 6.7309e-05\n",
      "Epoch 3/100\n",
      "368352/368352 [==============================] - 41s 111us/step - loss: 1.4123e-04 - val_loss: 7.8895e-05\n",
      "\n",
      "Epoch 00003: ReduceLROnPlateau reducing learning rate to 0.00010000000474974513.\n",
      "Epoch 4/100\n",
      "368352/368352 [==============================] - 41s 111us/step - loss: 1.2136e-04 - val_loss: 5.4974e-05\n",
      "Epoch 5/100\n",
      "368352/368352 [==============================] - 43s 116us/step - loss: 1.2114e-04 - val_loss: 5.6674e-05\n",
      "\n",
      "Epoch 00005: ReduceLROnPlateau reducing learning rate to 1.0000000474974514e-05.\n",
      "Epoch 6/100\n",
      "368352/368352 [==============================] - 40s 109us/step - loss: 1.2119e-04 - val_loss: 5.4820e-05\n",
      "Epoch 7/100\n",
      "368352/368352 [==============================] - 39s 105us/step - loss: 1.1881e-04 - val_loss: 5.4964e-05\n",
      "\n",
      "Epoch 00007: ReduceLROnPlateau reducing learning rate to 1.0000000656873453e-06.\n",
      "Epoch 8/100\n",
      "368352/368352 [==============================] - 39s 106us/step - loss: 1.2047e-04 - val_loss: 5.4436e-05\n",
      "Epoch 9/100\n",
      "368352/368352 [==============================] - 40s 110us/step - loss: 1.1955e-04 - val_loss: 5.5779e-05\n",
      "\n",
      "Epoch 00009: ReduceLROnPlateau reducing learning rate to 1.0000001111620805e-07.\n",
      "Epoch 10/100\n",
      "368352/368352 [==============================] - 40s 109us/step - loss: 1.1854e-04 - val_loss: 5.4262e-05\n",
      "Epoch 11/100\n",
      "368352/368352 [==============================] - 41s 112us/step - loss: 1.1751e-04 - val_loss: 5.4845e-05\n",
      "\n",
      "Epoch 00011: ReduceLROnPlateau reducing learning rate to 1.000000082740371e-08.\n",
      "Epoch 12/100\n",
      "368352/368352 [==============================] - 40s 109us/step - loss: 1.2001e-04 - val_loss: 5.5060e-05\n",
      "Epoch 13/100\n",
      "368352/368352 [==============================] - 43s 117us/step - loss: 1.1849e-04 - val_loss: 5.4775e-05\n",
      "\n",
      "Epoch 00013: ReduceLROnPlateau reducing learning rate to 1.000000082740371e-09.\n",
      "Epoch 14/100\n",
      "368352/368352 [==============================] - 41s 112us/step - loss: 1.1700e-04 - val_loss: 5.5420e-05\n",
      "Epoch 15/100\n",
      "368352/368352 [==============================] - 35s 96us/step - loss: 1.1830e-04 - val_loss: 5.5054e-05\n",
      "\n",
      "Epoch 00015: ReduceLROnPlateau reducing learning rate to 1.000000082740371e-10.\n",
      "Epoch 16/100\n",
      "368352/368352 [==============================] - 179s 485us/step - loss: 1.1954e-04 - val_loss: 5.5385e-05\n",
      "Epoch 17/100\n",
      "368352/368352 [==============================] - 74s 201us/step - loss: 1.1788e-04 - val_loss: 5.4806e-05\n",
      "\n",
      "Epoch 00017: ReduceLROnPlateau reducing learning rate to 1.000000082740371e-11.\n",
      "Epoch 18/100\n",
      "368352/368352 [==============================] - 32s 88us/step - loss: 1.1999e-04 - val_loss: 5.6006e-05\n",
      "Epoch 19/100\n",
      "368352/368352 [==============================] - 32s 87us/step - loss: 1.1827e-04 - val_loss: 5.5539e-05\n",
      "\n",
      "Epoch 00019: ReduceLROnPlateau reducing learning rate to 1.000000082740371e-12.\n",
      "Epoch 20/100\n",
      "368352/368352 [==============================] - 32s 87us/step - loss: 1.1621e-04 - val_loss: 5.5248e-05\n",
      "Epoch 00020: early stopping\n"
     ]
    }
   ],
   "source": [
    "historyConv = modelConv.fit([raw_train, eCal_image_train, hCal_image_train, trk_image_train, lst_train], y_train, epochs=100, batch_size=batch_size, verbose = 1,\n",
    "                validation_data=([raw_test, eCal_image_test, hCal_image_test, trk_image_test, lst_test], y_test),\n",
    "                callbacks = [\n",
    "                EarlyStopping(monitor='val_loss', patience=10, verbose=1),\n",
    "                ReduceLROnPlateau(monitor='val_loss', factor=0.1, patience=2, verbose=1),\n",
    "                TerminateOnNaN()])"
   ]
  },
  {
   "cell_type": "code",
   "execution_count": 43,
   "metadata": {
    "scrolled": true
   },
   "outputs": [
    {
     "name": "stdout",
     "output_type": "stream",
     "text": [
      "Train on 368352 samples, validate on 157866 samples\n",
      "Epoch 1/100\n",
      "368352/368352 [==============================] - 115s 312us/step - loss: 1.9860e-04 - val_loss: 9.9133e-05\n",
      "Epoch 2/100\n",
      "368352/368352 [==============================] - 113s 307us/step - loss: 1.7013e-04 - val_loss: 7.1654e-05\n",
      "Epoch 3/100\n",
      "368352/368352 [==============================] - 114s 308us/step - loss: 1.2970e-04 - val_loss: 6.3052e-05\n",
      "\n",
      "Epoch 00003: ReduceLROnPlateau reducing learning rate to 0.00010000000474974513.\n",
      "Epoch 4/100\n",
      "368352/368352 [==============================] - 113s 306us/step - loss: 1.1895e-04 - val_loss: 5.9347e-05\n",
      "Epoch 5/100\n",
      "368352/368352 [==============================] - 112s 303us/step - loss: 1.1975e-04 - val_loss: 5.4781e-05\n",
      "\n",
      "Epoch 00005: ReduceLROnPlateau reducing learning rate to 1.0000000474974514e-05.\n",
      "Epoch 6/100\n",
      "368352/368352 [==============================] - 112s 304us/step - loss: 1.1861e-04 - val_loss: 5.5288e-05\n",
      "Epoch 7/100\n",
      "368352/368352 [==============================] - 111s 303us/step - loss: 1.1712e-04 - val_loss: 5.4393e-05\n",
      "\n",
      "Epoch 00007: ReduceLROnPlateau reducing learning rate to 1.0000000656873453e-06.\n",
      "Epoch 8/100\n",
      "368352/368352 [==============================] - 112s 303us/step - loss: 1.1743e-04 - val_loss: 5.3947e-05\n",
      "Epoch 9/100\n",
      "368352/368352 [==============================] - 112s 303us/step - loss: 1.1892e-04 - val_loss: 5.4526e-05\n",
      "\n",
      "Epoch 00009: ReduceLROnPlateau reducing learning rate to 1.0000001111620805e-07.\n",
      "Epoch 10/100\n",
      "368352/368352 [==============================] - 114s 311us/step - loss: 1.1793e-04 - val_loss: 5.4691e-05\n",
      "Epoch 11/100\n",
      "368352/368352 [==============================] - 113s 308us/step - loss: 1.1885e-04 - val_loss: 5.3758e-05\n",
      "\n",
      "Epoch 00011: ReduceLROnPlateau reducing learning rate to 1.000000082740371e-08.\n",
      "Epoch 12/100\n",
      "368352/368352 [==============================] - 215s 584us/step - loss: 1.1890e-04 - val_loss: 5.5136e-05\n",
      "Epoch 13/100\n",
      "368352/368352 [==============================] - 276s 750us/step - loss: 1.1699e-04 - val_loss: 5.3944e-05\n",
      "\n",
      "Epoch 00013: ReduceLROnPlateau reducing learning rate to 1.000000082740371e-09.\n",
      "Epoch 14/100\n",
      "368352/368352 [==============================] - 141s 382us/step - loss: 1.1646e-04 - val_loss: 5.4160e-05\n",
      "Epoch 15/100\n",
      "368352/368352 [==============================] - 113s 308us/step - loss: 1.1748e-04 - val_loss: 5.3862e-05\n",
      "\n",
      "Epoch 00015: ReduceLROnPlateau reducing learning rate to 1.000000082740371e-10.\n",
      "Epoch 16/100\n",
      "368352/368352 [==============================] - 112s 305us/step - loss: 1.1794e-04 - val_loss: 5.4929e-05\n",
      "Epoch 17/100\n",
      "368352/368352 [==============================] - 112s 305us/step - loss: 1.1812e-04 - val_loss: 5.4648e-05\n",
      "\n",
      "Epoch 00017: ReduceLROnPlateau reducing learning rate to 1.000000082740371e-11.\n",
      "Epoch 18/100\n",
      "368352/368352 [==============================] - 113s 306us/step - loss: 1.1719e-04 - val_loss: 5.4433e-05\n",
      "Epoch 19/100\n",
      "368352/368352 [==============================] - 113s 308us/step - loss: 1.1833e-04 - val_loss: 5.4605e-05\n",
      "\n",
      "Epoch 00019: ReduceLROnPlateau reducing learning rate to 1.000000082740371e-12.\n",
      "Epoch 20/100\n",
      "368352/368352 [==============================] - 115s 311us/step - loss: 1.1976e-04 - val_loss: 5.4408e-05\n",
      "Epoch 21/100\n",
      "368352/368352 [==============================] - 114s 309us/step - loss: 1.1806e-04 - val_loss: 5.4315e-05\n",
      "\n",
      "Epoch 00021: ReduceLROnPlateau reducing learning rate to 1.0000001044244145e-13.\n",
      "Epoch 00021: early stopping\n"
     ]
    }
   ],
   "source": [
    "historyGRU = modelGRU.fit([raw_train, eCal_image_train, hCal_image_train, trk_image_train, lst_train], y_train, epochs=100, batch_size=batch_size, verbose = 1,\n",
    "                validation_data=([raw_test, eCal_image_test, hCal_image_test, trk_image_test, lst_test], y_test),\n",
    "                callbacks = [\n",
    "                EarlyStopping(monitor='val_loss', patience=10, verbose=1),\n",
    "                ReduceLROnPlateau(monitor='val_loss', factor=0.1, patience=2, verbose=1),\n",
    "                TerminateOnNaN()])"
   ]
  },
  {
   "cell_type": "markdown",
   "metadata": {},
   "source": [
    "# Analysis"
   ]
  },
  {
   "cell_type": "code",
   "execution_count": 60,
   "metadata": {},
   "outputs": [
    {
     "data": {
      "image/png": "[encoded data removed]",
      "text/plain": [
       "<Figure size 432x288 with 1 Axes>"
      ]
     },
     "metadata": {},
     "output_type": "display_data"
    }
   ],
   "source": [
    "# plot training history\n",
    "plt.plot(historyImg.history['loss'])\n",
    "plt.plot(historyImg.history['val_loss'])\n",
    "plt.plot(historyConv.history['loss'])\n",
    "plt.plot(historyConv.history['val_loss'])\n",
    "plt.plot(historyGRU.history['loss'])\n",
    "plt.plot(historyGRU.history['val_loss'])\n",
    "plt.yscale('log')\n",
    "plt.title('model loss')\n",
    "plt.ylabel('loss')\n",
    "plt.xlabel('epoch')\n",
    "plt.legend(['image train', 'image test', 'conv train', 'conv test','gru train','gru test'], loc='upper left')\n",
    "plt.show()\n",
    "#"
   ]
  },
  {
   "cell_type": "code",
   "execution_count": 61,
   "metadata": {},
   "outputs": [],
   "source": [
    "ImgPredict = modelImg.predict([raw_test, eCal_image_test, hCal_image_test, trk_image_test, lst_test])\n",
    "ImgPredict = np.reshape(ImgPredict, (ImgPredict.shape[0],))"
   ]
  },
  {
   "cell_type": "code",
   "execution_count": 62,
   "metadata": {},
   "outputs": [],
   "source": [
    "ConvPredict = modelConv.predict([raw_test, eCal_image_test, hCal_image_test, trk_image_test, lst_test])\n",
    "ConvPredict = np.reshape(ConvPredict, (ConvPredict.shape[0],))"
   ]
  },
  {
   "cell_type": "code",
   "execution_count": 63,
   "metadata": {},
   "outputs": [],
   "source": [
    "GRUPredict = modelGRU.predict([raw_test, eCal_image_test, hCal_image_test, trk_image_test, lst_test])\n",
    "GRUPredict = np.reshape(GRUPredict, (GRUPredict.shape[0],))"
   ]
  },
  {
   "cell_type": "code",
   "execution_count": 64,
   "metadata": {},
   "outputs": [],
   "source": [
    "#put pT back in its range\n",
    "#delphesPt = minVal[0] + np.reshape(delphesPt, (delphesPt.shape[0],))*(maxVal[0]-minVal[0])\n",
    "pTraw = minVal[0] + raw_test[:,0]*(maxVal[0]-minVal[0])\n",
    "pTreco = minVal[0] + np.reshape(y_test, (y_test.shape[0],))*(maxVal[0]-minVal[0])\n",
    "ImgPredict = minVal[0] + ImgPredict*(maxVal[0]-minVal[0])\n",
    "ConvPredict = minVal[0] + ConvPredict*(maxVal[0]-minVal[0])\n",
    "GRUPredict = minVal[0] + GRUPredict*(maxVal[0]-minVal[0])"
   ]
  },
  {
   "cell_type": "code",
   "execution_count": 97,
   "metadata": {
    "scrolled": false
   },
   "outputs": [
    {
     "name": "stderr",
     "output_type": "stream",
     "text": [
      "/usr/local/anaconda3/lib/python3.6/site-packages/matplotlib/axes/_axes.py:6462: UserWarning: The 'normed' kwarg is deprecated, and has been replaced by the 'density' kwarg.\n",
      "  warnings.warn(\"The 'normed' kwarg is deprecated, and has been \"\n"
     ]
    },
    {
     "data": {
      "image/png": "[encoded data removed]",
      "text/plain": [
       "<Figure size 432x288 with 1 Axes>"
      ]
     },
     "metadata": {},
     "output_type": "display_data"
    },
    {
     "name": "stdout",
     "output_type": "stream",
     "text": [
      "RAW MEAN: -0.667510\n",
      "RAW RMS: 0.447229\n",
      "-------------------\n",
      "img CNN MEAN: 0.056017\n",
      "img CNN RMS: 0.210287\n",
      "-------------------\n",
      "conv CNN MEAN: -0.005295\n",
      "conv CNN RMS: 0.194822\n",
      "-------------------\n",
      "gru CNN MEAN: -0.042430\n",
      "gru CNN RMS: 0.183721\n"
     ]
    }
   ],
   "source": [
    "plt.xlim(-3., 2.)\n",
    "# histtype = 'step'\n",
    "plt.ylim(0.,3.)\n",
    "resRaw = np.nan_to_num((pTreco-pTraw)/pTreco)\n",
    "ImgresCNN = np.nan_to_num((pTreco-ImgPredict)/pTreco)\n",
    "ConvresCNN = np.nan_to_num((pTreco-ConvPredict)/pTreco)\n",
    "GRUresCNN = np.nan_to_num((pTreco-GRUPredict)/pTreco)\n",
    "#resDelphes = np.nan_to_num((pTreco-delphesPt)/pTreco)\n",
    "plt.hist(resRaw, bins = 500, normed=1, alpha = 0.5)\n",
    "plt.hist(ImgresCNN, bins = 500, normed=1, alpha = 0.5)\n",
    "plt.hist(ConvresCNN, bins = 500, normed=1, alpha = 0.5)\n",
    "plt.hist(GRUresCNN, bins = 500, normed=1, alpha = 0.5)\n",
    "#plt.hist(resDelphes, bins = 500, normed=1, alpha = 0.8)\n",
    "plt.ylabel('Number of events')\n",
    "plt.xlabel('$\\Delta p_T/p_T$')\n",
    "#plt.legend(['Raw Jet','CNN Regression', 'Trigger PFJet'], loc='upper left')\n",
    "plt.legend(['Raw Jet','Img CNN Regression','conv cnn reg','gru cnn res'], loc='upper left')\n",
    "plt.show()\n",
    "from scipy.stats import norm\n",
    "(mu, sigma) = norm.fit(resRaw)\n",
    "print(\"RAW MEAN: %f\" %mu)\n",
    "print(\"RAW RMS: %f\" %sigma)\n",
    "print(\"-------------------\")\n",
    "(mu, sigma) = norm.fit(ImgresCNN)\n",
    "print(\"img CNN MEAN: %f\" %mu)\n",
    "print(\"img CNN RMS: %f\" %sigma)\n",
    "print(\"-------------------\")\n",
    "(mu, sigma) = norm.fit(ConvresCNN)\n",
    "print(\"conv CNN MEAN: %f\" %mu)\n",
    "print(\"conv CNN RMS: %f\" %sigma)\n",
    "print(\"-------------------\")\n",
    "(mu, sigma) = norm.fit(GRUresCNN)\n",
    "print(\"gru CNN MEAN: %f\" %mu)\n",
    "print(\"gru CNN RMS: %f\" %sigma)"
   ]
  },
  {
   "cell_type": "code",
   "execution_count": 83,
   "metadata": {},
   "outputs": [],
   "source": [
    "ImgPredict_reshaped = minVal[0] + ImgPredict*(maxVal[0]-minVal[0])"
   ]
  },
  {
   "cell_type": "code",
   "execution_count": 84,
   "metadata": {},
   "outputs": [
    {
     "name": "stdout",
     "output_type": "stream",
     "text": [
      "[20782.8    13789.4795 51365.07   ... 14676.613  20719.701  17806.291 ]\n"
     ]
    }
   ],
   "source": [
    "print(ImgPredict_reshaped)"
   ]
  },
  {
   "cell_type": "code",
   "execution_count": 85,
   "metadata": {},
   "outputs": [
    {
     "name": "stdout",
     "output_type": "stream",
     "text": [
      "[24.679459 16.370323 61.01588  ... 17.424374 24.604488 21.14291 ]\n"
     ]
    }
   ],
   "source": [
    "print(ImgPredict)"
   ]
  },
  {
   "cell_type": "code",
   "execution_count": 86,
   "metadata": {},
   "outputs": [],
   "source": [
    "over = ImgPredict > 100"
   ]
  },
  {
   "cell_type": "code",
   "execution_count": 87,
   "metadata": {},
   "outputs": [
    {
     "name": "stderr",
     "output_type": "stream",
     "text": [
      "/usr/local/anaconda3/lib/python3.6/site-packages/matplotlib/axes/_axes.py:6462: UserWarning: The 'normed' kwarg is deprecated, and has been replaced by the 'density' kwarg.\n",
      "  warnings.warn(\"The 'normed' kwarg is deprecated, and has been \"\n"
     ]
    },
    {
     "data": {
      "image/png": "[encoded data removed]",
      "text/plain": [
       "<Figure size 432x288 with 1 Axes>"
      ]
     },
     "metadata": {},
     "output_type": "display_data"
    }
   ],
   "source": [
    "plt.hist(y_test[over==1], bins=200, normed=1)\n",
    "plt.hist(y_test, bins=200, normed=1)\n",
    "plt.show()"
   ]
  },
  {
   "cell_type": "code",
   "execution_count": 70,
   "metadata": {},
   "outputs": [],
   "source": [
    "thresh = 40"
   ]
  },
  {
   "cell_type": "code",
   "execution_count": 90,
   "metadata": {
    "scrolled": true
   },
   "outputs": [
    {
     "name": "stdout",
     "output_type": "stream",
     "text": [
      "Img True Positive Rate 0.999690\n",
      "Img False Positive Rate 0.701943\n"
     ]
    }
   ],
   "source": [
    "myTestArray_sig_Img = y_test[over==1] > 0.01\n",
    "myTestArray_bkg_Img = y_test[over==0] > 0.01\n",
    "print(\"Img True Positive Rate %f\" %(myTestArray_sig_Img.sum()/float((over==1).sum())))\n",
    "print(\"Img False Positive Rate %f\" %(myTestArray_bkg_Img.sum()/float((over==0).sum())))"
   ]
  },
  {
   "cell_type": "markdown",
   "metadata": {},
   "source": [
    "# baseline turn-on curve: just use the raw pT estimate"
   ]
  },
  {
   "cell_type": "code",
   "execution_count": 91,
   "metadata": {},
   "outputs": [
    {
     "data": {
      "image/png": "[encoded data removed]",
      "text/plain": [
       "<Figure size 432x288 with 1 Axes>"
      ]
     },
     "metadata": {},
     "output_type": "display_data"
    },
    {
     "data": {
      "image/png": "[encoded data removed]",
      "text/plain": [
       "<Figure size 432x288 with 1 Axes>"
      ]
     },
     "metadata": {},
     "output_type": "display_data"
    },
    {
     "name": "stderr",
     "output_type": "stream",
     "text": [
      "/usr/local/anaconda3/lib/python3.6/site-packages/ipykernel_launcher.py:21: RuntimeWarning: divide by zero encountered in true_divide\n",
      "/usr/local/anaconda3/lib/python3.6/site-packages/ipykernel_launcher.py:21: RuntimeWarning: invalid value encountered in true_divide\n"
     ]
    },
    {
     "data": {
      "image/png": "[encoded data removed]",
      "text/plain": [
       "<Figure size 432x288 with 1 Axes>"
      ]
     },
     "metadata": {},
     "output_type": "display_data"
    },
    {
     "name": "stdout",
     "output_type": "stream",
     "text": [
      "0.056693651577920515\n"
     ]
    }
   ],
   "source": [
    "thresh = 100.\n",
    "alljet_pt = pTreco\n",
    "#alljet_pt = alljet_pt.reshape((len(alljet_pt),1))\n",
    "goodjets = pTraw>thresh\n",
    "goodjet_pt = alljet_pt[goodjets]\n",
    "countsAllJets, bins, bars = plt.hist(alljet_pt, bins=200)\n",
    "plt.xlabel(\"jet $p_T$ [GeV]\")\n",
    "plt.ylabel(\"Number of events\")\n",
    "plt.yscale('log')\n",
    "plt.show()\n",
    "# numerator: only jets estimated to be > 40 GeV (score ) \n",
    "countsGoodJets, bins, bars = plt.hist(goodjet_pt, bins=200)\n",
    "plt.xlabel(\"jet $p_T$ [GeV]\")\n",
    "plt.ylabel(\"Number of events\")\n",
    "plt.yscale('log')\n",
    "plt.show()\n",
    "# recenter the bins\n",
    "half_bin_width = (bins[1]-bins[0])/2.\n",
    "bins = bins - half_bin_width\n",
    "# plot the ratio\n",
    "ratio = countsGoodJets/countsAllJets\n",
    "plt.plot(bins[0:50], ratio[0:50])\n",
    "plt.xlabel(\"jet $p_T$ [GeV]\")\n",
    "plt.ylabel(\"$p_T$ selection efficiency\")\n",
    "plt.show()\n",
    "# fraction of events that passed the threshold\n",
    "print(float(goodjets.sum())/len(goodjets))"
   ]
  },
  {
   "cell_type": "code",
   "execution_count": 92,
   "metadata": {},
   "outputs": [
    {
     "data": {
      "image/png": "[encoded data removed]",
      "text/plain": [
       "<Figure size 432x288 with 1 Axes>"
      ]
     },
     "metadata": {},
     "output_type": "display_data"
    },
    {
     "data": {
      "image/png": "[encoded data removed]",
      "text/plain": [
       "<Figure size 432x288 with 1 Axes>"
      ]
     },
     "metadata": {},
     "output_type": "display_data"
    },
    {
     "name": "stderr",
     "output_type": "stream",
     "text": [
      "/usr/local/anaconda3/lib/python3.6/site-packages/ipykernel_launcher.py:21: RuntimeWarning: divide by zero encountered in true_divide\n",
      "/usr/local/anaconda3/lib/python3.6/site-packages/ipykernel_launcher.py:21: RuntimeWarning: invalid value encountered in true_divide\n"
     ]
    },
    {
     "data": {
      "image/png": "[encoded data removed]",
      "text/plain": [
       "<Figure size 432x288 with 1 Axes>"
      ]
     },
     "metadata": {},
     "output_type": "display_data"
    },
    {
     "name": "stdout",
     "output_type": "stream",
     "text": [
      "0.020466724943939796\n"
     ]
    }
   ],
   "source": [
    "thresh = 100.\n",
    "alljet_pt = pTreco\n",
    "#alljet_pt = alljet_pt.reshape((len(alljet_pt),1))\n",
    "goodjets = ImgPredict>thresh\n",
    "goodjet_pt = alljet_pt[goodjets]\n",
    "countsAllJets, bins, bars = plt.hist(alljet_pt, bins=200)\n",
    "plt.xlabel(\"jet $p_T$ [GeV]\")\n",
    "plt.ylabel(\"Number of events\")\n",
    "plt.yscale('log')\n",
    "plt.show()\n",
    "# numerator: only jets estimated to be > 40 GeV (score ) \n",
    "countsGoodJets, bins, bars = plt.hist(goodjet_pt, bins=200)\n",
    "plt.xlabel(\"jet $p_T$ [GeV]\")\n",
    "plt.ylabel(\"Number of events\")\n",
    "plt.yscale('log')\n",
    "plt.show()\n",
    "# recenter the bins\n",
    "half_bin_width = (bins[1]-bins[0])/2.\n",
    "bins = bins - half_bin_width\n",
    "# plot the ratio\n",
    "ratio = countsGoodJets/countsAllJets\n",
    "plt.plot(bins[0:50], ratio[0:50])\n",
    "plt.xlabel(\"jet $p_T$ [GeV]\")\n",
    "plt.ylabel(\"$p_T$ selection efficiency\")\n",
    "plt.show()\n",
    "# fraction of events that passed the threshold\n",
    "print(float(goodjets.sum())/len(goodjets))"
   ]
  },
  {
   "cell_type": "code",
   "execution_count": 93,
   "metadata": {},
   "outputs": [
    {
     "data": {
      "image/png": "[encoded data removed]",
      "text/plain": [
       "<Figure size 432x288 with 1 Axes>"
      ]
     },
     "metadata": {},
     "output_type": "display_data"
    },
    {
     "data": {
      "image/png": "[encoded data removed]",
      "text/plain": [
       "<Figure size 432x288 with 1 Axes>"
      ]
     },
     "metadata": {},
     "output_type": "display_data"
    },
    {
     "name": "stderr",
     "output_type": "stream",
     "text": [
      "/usr/local/anaconda3/lib/python3.6/site-packages/ipykernel_launcher.py:21: RuntimeWarning: divide by zero encountered in true_divide\n",
      "/usr/local/anaconda3/lib/python3.6/site-packages/ipykernel_launcher.py:21: RuntimeWarning: invalid value encountered in true_divide\n"
     ]
    },
    {
     "data": {
      "image/png": "[encoded data removed]",
      "text/plain": [
       "<Figure size 432x288 with 1 Axes>"
      ]
     },
     "metadata": {},
     "output_type": "display_data"
    },
    {
     "name": "stdout",
     "output_type": "stream",
     "text": [
      "0.025337944839294083\n"
     ]
    }
   ],
   "source": [
    "thresh = 100.\n",
    "alljet_pt = pTreco\n",
    "#alljet_pt = alljet_pt.reshape((len(alljet_pt),1))\n",
    "goodjets = ConvPredict>thresh\n",
    "goodjet_pt = alljet_pt[goodjets]\n",
    "countsAllJets, bins, bars = plt.hist(alljet_pt, bins=200)\n",
    "plt.xlabel(\"jet $p_T$ [GeV]\")\n",
    "plt.ylabel(\"Number of events\")\n",
    "plt.yscale('log')\n",
    "plt.show()\n",
    "# numerator: only jets estimated to be > 40 GeV (score ) \n",
    "countsGoodJets, bins, bars = plt.hist(goodjet_pt, bins=200)\n",
    "plt.xlabel(\"jet $p_T$ [GeV]\")\n",
    "plt.ylabel(\"Number of events\")\n",
    "plt.yscale('log')\n",
    "plt.show()\n",
    "# recenter the bins\n",
    "half_bin_width = (bins[1]-bins[0])/2.\n",
    "bins = bins - half_bin_width\n",
    "# plot the ratio\n",
    "ratio = countsGoodJets/countsAllJets\n",
    "plt.plot(bins[0:50], ratio[0:50])\n",
    "plt.xlabel(\"jet $p_T$ [GeV]\")\n",
    "plt.ylabel(\"$p_T$ selection efficiency\")\n",
    "plt.show()\n",
    "# fraction of events that passed the threshold\n",
    "print(float(goodjets.sum())/len(goodjets))"
   ]
  },
  {
   "cell_type": "code",
   "execution_count": 94,
   "metadata": {},
   "outputs": [
    {
     "data": {
      "image/png": "[encoded data removed]",
      "text/plain": [
       "<Figure size 432x288 with 1 Axes>"
      ]
     },
     "metadata": {},
     "output_type": "display_data"
    },
    {
     "data": {
      "image/png": "[encoded data removed]",
      "text/plain": [
       "<Figure size 432x288 with 1 Axes>"
      ]
     },
     "metadata": {},
     "output_type": "display_data"
    },
    {
     "name": "stderr",
     "output_type": "stream",
     "text": [
      "/usr/local/anaconda3/lib/python3.6/site-packages/ipykernel_launcher.py:21: RuntimeWarning: divide by zero encountered in true_divide\n",
      "/usr/local/anaconda3/lib/python3.6/site-packages/ipykernel_launcher.py:21: RuntimeWarning: invalid value encountered in true_divide\n"
     ]
    },
    {
     "data": {
      "image/png": "[encoded data removed]",
      "text/plain": [
       "<Figure size 432x288 with 1 Axes>"
      ]
     },
     "metadata": {},
     "output_type": "display_data"
    },
    {
     "name": "stdout",
     "output_type": "stream",
     "text": [
      "0.025819365791240674\n"
     ]
    }
   ],
   "source": [
    "thresh = 100.\n",
    "alljet_pt = pTreco\n",
    "#alljet_pt = alljet_pt.reshape((len(alljet_pt),1))\n",
    "goodjets = GRUPredict>thresh\n",
    "goodjet_pt = alljet_pt[goodjets]\n",
    "countsAllJets, bins, bars = plt.hist(alljet_pt, bins=200)\n",
    "plt.xlabel(\"jet $p_T$ [GeV]\")\n",
    "plt.ylabel(\"Number of events\")\n",
    "plt.yscale('log')\n",
    "plt.show()\n",
    "# numerator: only jets estimated to be > 40 GeV (score ) \n",
    "countsGoodJets, bins, bars = plt.hist(goodjet_pt, bins=200)\n",
    "plt.xlabel(\"jet $p_T$ [GeV]\")\n",
    "plt.ylabel(\"Number of events\")\n",
    "plt.yscale('log')\n",
    "plt.show()\n",
    "# recenter the bins\n",
    "half_bin_width = (bins[1]-bins[0])/2.\n",
    "bins = bins - half_bin_width\n",
    "# plot the ratio\n",
    "ratio = countsGoodJets/countsAllJets\n",
    "plt.plot(bins[0:50], ratio[0:50])\n",
    "plt.xlabel(\"jet $p_T$ [GeV]\")\n",
    "plt.ylabel(\"$p_T$ selection efficiency\")\n",
    "plt.show()\n",
    "# fraction of events that passed the threshold\n",
    "print(float(goodjets.sum())/len(goodjets))"
   ]
  },
  {
   "cell_type": "code",
   "execution_count": null,
   "metadata": {},
   "outputs": [],
   "source": []
  }
 ],
 "metadata": {
  "kernelspec": {
   "display_name": "Python 3",
   "language": "python",
   "name": "python3"
  },
  "language_info": {
   "codemirror_mode": {
    "name": "ipython",
    "version": 3
   },
   "file_extension": ".py",
   "mimetype": "text/x-python",
   "name": "python",
   "nbconvert_exporter": "python",
   "pygments_lexer": "ipython3",
   "version": "3.6.5"
  }
 },
 "nbformat": 4,
 "nbformat_minor": 2
}
