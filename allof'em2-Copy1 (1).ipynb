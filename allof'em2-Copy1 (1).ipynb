{
 "cells": [
  {
   "cell_type": "markdown",
   "metadata": {},
   "source": [
    "# Preparing system"
   ]
  },
  {
   "cell_type": "code",
   "execution_count": 113,
   "metadata": {
    "scrolled": true
   },
   "outputs": [],
   "source": [
    "import setGPU"
   ]
  },
  {
   "cell_type": "code",
   "execution_count": 114,
   "metadata": {},
   "outputs": [
    {
     "name": "stdout",
     "output_type": "stream",
     "text": [
      "using gpu memory fraction: 0.4\n"
     ]
    }
   ],
   "source": [
    "# limit GPU usage\n",
    "import sys\n",
    "import tensorflow as tf\n",
    "gpuFraction = 0.4\n",
    "gpu_options = tf.GPUOptions(per_process_gpu_memory_fraction=gpuFraction)\n",
    "sess = tf.Session(config=tf.ConfigProto(gpu_options=gpu_options))\n",
    "import keras\n",
    "from keras import backend as K\n",
    "K.set_session(sess)\n",
    "print('using gpu memory fraction: '+str(gpuFraction))"
   ]
  },
  {
   "cell_type": "code",
   "execution_count": 115,
   "metadata": {},
   "outputs": [],
   "source": [
    "%matplotlib inline"
   ]
  },
  {
   "cell_type": "code",
   "execution_count": 116,
   "metadata": {},
   "outputs": [],
   "source": [
    "# imports\n",
    "import h5py\n",
    "import glob\n",
    "import numpy as np"
   ]
  },
  {
   "cell_type": "code",
   "execution_count": 117,
   "metadata": {},
   "outputs": [
    {
     "name": "stdout",
     "output_type": "stream",
     "text": [
      "········\n"
     ]
    },
    {
     "data": {
      "text/plain": [
       "0"
      ]
     },
     "execution_count": 117,
     "metadata": {},
     "output_type": "execute_result"
    }
   ],
   "source": [
    "# need afs password to read from eos\n",
    "import os\n",
    "import getpass\n",
    "os.system(\"echo %s| kinit\" %getpass.getpass())"
   ]
  },
  {
   "cell_type": "markdown",
   "metadata": {},
   "source": [
    "# Import files"
   ]
  },
  {
   "cell_type": "code",
   "execution_count": 118,
   "metadata": {
    "scrolled": true
   },
   "outputs": [
    {
     "name": "stdout",
     "output_type": "stream",
     "text": [
      "['jetECALImages', 'jetHCALImages', 'jetMomenta', 'jetTrkImages', 'rawJetMomenta', 'trkList']\n"
     ]
    }
   ],
   "source": [
    "# open the new dataset\n",
    "fileIn = h5py.File(\"ZtoNuNu_lepFilter_13TeV_JetImage_1.h5\")\n",
    "#delphesPt = fileIn.get(\"jetSmearedDelphes\")\n",
    "print(list(fileIn.keys()))"
   ]
  },
  {
   "cell_type": "code",
   "execution_count": 156,
   "metadata": {},
   "outputs": [],
   "source": [
    "# assign names\n",
    "truth = fileIn.get(\"jetMomenta\")\n",
    "raw = fileIn.get(\"rawJetMomenta\")\n",
    "eCal = fileIn.get(\"jetECALImages\")\n",
    "hCal = fileIn.get(\"jetHCALImages\")\n",
    "track = fileIn.get(\"jetTrkImages\")\n",
    "trkList = fileIn.get(\"trkList\")"
   ]
  },
  {
   "cell_type": "markdown",
   "metadata": {},
   "source": [
    "# Prepare train and test samples\n",
    "\n"
   ]
  },
  {
   "cell_type": "code",
   "execution_count": 153,
   "metadata": {},
   "outputs": [
    {
     "name": "stdout",
     "output_type": "stream",
     "text": [
      "MinMaxScaler(copy=True, feature_range=(0, 1))\n"
     ]
    }
   ],
   "source": [
    "from sklearn.preprocessing import MinMaxScaler\n",
    "# normalize raw inputs and outputs between 0 and 1\n",
    "scaler = MinMaxScaler()\n",
    "print(scaler.fit(raw))\n",
    "maxVal = scaler.data_max_\n",
    "minVal = scaler.data_min_\n",
    "raw = (raw-minVal)/(maxVal-minVal)\n",
    "#truth = (truth-minVal)/(maxVal-minVal)"
   ]
  },
  {
   "cell_type": "code",
   "execution_count": 157,
   "metadata": {},
   "outputs": [
    {
     "data": {
      "text/plain": [
       "34.453424491596564"
      ]
     },
     "execution_count": 157,
     "metadata": {},
     "output_type": "execute_result"
    }
   ],
   "source": [
    "np.average(truth)\n",
    "truth = truth[:,0]\n",
    "truth = np.reshape(truth, (truth.shape[0], 1))\n",
    "np.average(truth)"
   ]
  },
  {
   "cell_type": "code",
   "execution_count": 158,
   "metadata": {},
   "outputs": [],
   "source": [
    "# split sets\n",
    "iSplit = int(0.7*truth.shape[0])\n",
    "eCal_image_train = eCal[:iSplit, :, :]\n",
    "eCal_image_test = eCal[iSplit:, :, :]\n",
    "hCal_image_train = hCal[:iSplit, :, :]\n",
    "hCal_image_test = hCal[iSplit:, :, :]\n",
    "trk_image_train = track[:iSplit, :, :]\n",
    "trk_image_test = track[iSplit:, :, :]\n",
    "lst_train = trkList[:iSplit, :, :]\n",
    "lst_test = trkList[iSplit:,:,:]\n",
    "raw_train = raw[:iSplit, :]\n",
    "raw_test = raw[iSplit:, :]\n",
    "y_train = truth[:iSplit, :]\n",
    "y_test = truth[iSplit:, :]"
   ]
  },
  {
   "cell_type": "code",
   "execution_count": 20,
   "metadata": {},
   "outputs": [],
   "source": [
    "# Reshape eCal\n",
    "eCal_image_test = np.reshape(eCal_image_test, (eCal_image_test.shape[0], eCal_image_test.shape[1],\n",
    "                                         eCal_image_test.shape[2], 1))\n",
    "eCal_image_train = np.reshape(eCal_image_train, (eCal_image_train.shape[0], eCal_image_train.shape[1],\n",
    "                                           eCal_image_train.shape[2], 1))"
   ]
  },
  {
   "cell_type": "code",
   "execution_count": 21,
   "metadata": {},
   "outputs": [],
   "source": [
    "# Reshape hCal\n",
    "hCal_image_test = np.reshape(hCal_image_test, (hCal_image_test.shape[0], hCal_image_test.shape[1],\n",
    "                                         hCal_image_test.shape[2], 1))\n",
    "hCal_image_train = np.reshape(hCal_image_train, (hCal_image_train.shape[0], hCal_image_train.shape[1],\n",
    "                                           hCal_image_train.shape[2], 1))"
   ]
  },
  {
   "cell_type": "code",
   "execution_count": 22,
   "metadata": {},
   "outputs": [],
   "source": [
    "# Reshape trackimg\n",
    "trk_image_test = np.reshape(trk_image_test, (trk_image_test.shape[0], trk_image_test.shape[1],\n",
    "                                         trk_image_test.shape[2], 1))\n",
    "trk_image_train = np.reshape(trk_image_train, (trk_image_train.shape[0], trk_image_train.shape[1],\n",
    "                                           trk_image_train.shape[2], 1))"
   ]
  },
  {
   "cell_type": "code",
   "execution_count": 23,
   "metadata": {},
   "outputs": [],
   "source": [
    "# Reshape track list\n",
    "lst_test = np.reshape(lst_test, (lst_test.shape[0], lst_test.shape[1],\n",
    "                                         lst_test.shape[2], 1))\n",
    "lst_train = np.reshape(lst_train, (lst_train.shape[0], lst_train.shape[1],\n",
    "                                           lst_train.shape[2], 1))"
   ]
  },
  {
   "cell_type": "markdown",
   "metadata": {},
   "source": [
    "# build the model"
   ]
  },
  {
   "cell_type": "code",
   "execution_count": 24,
   "metadata": {},
   "outputs": [],
   "source": [
    "# keras imports\n",
    "from keras.models import Model\n",
    "from keras.layers import Dense, Input, Conv2D, Conv1D, Dropout, Flatten, Concatenate, Reshape, BatchNormalization\n",
    "from keras.layers import MaxPooling2D, MaxPooling3D, GRU\n",
    "from keras.utils import plot_model\n",
    "from keras import regularizers\n",
    "from keras import backend as K\n",
    "from keras import metrics\n",
    "from keras.callbacks import EarlyStopping, ReduceLROnPlateau, TerminateOnNaN"
   ]
  },
  {
   "cell_type": "code",
   "execution_count": 25,
   "metadata": {},
   "outputs": [],
   "source": [
    "batch_size = 128"
   ]
  },
  {
   "cell_type": "code",
   "execution_count": 26,
   "metadata": {
    "scrolled": false
   },
   "outputs": [],
   "source": [
    "# Inputs\n",
    "InputRaw = Input(shape=(4,))\n",
    "inputeCal = Input(shape=(25,25,1))\n",
    "inputhCal = Input(shape=(5,5,1))\n",
    "inputTrk = Input(shape=(25,25,1))\n",
    "inputList = Input(shape=(50,3,1))"
   ]
  },
  {
   "cell_type": "code",
   "execution_count": 27,
   "metadata": {},
   "outputs": [],
   "source": [
    "# Raw\n",
    "x2 = BatchNormalization()(InputRaw)"
   ]
  },
  {
   "cell_type": "code",
   "execution_count": 28,
   "metadata": {},
   "outputs": [],
   "source": [
    "# eCal\n",
    "e = BatchNormalization()(inputeCal)\n",
    "e = Conv2D(30, kernel_size=(3, 3), activation='selu', data_format=\"channels_last\", strides=(3, 3), input_shape=(25,25,1))(e)\n",
    "e = Dropout(0.25)(e)\n",
    "e = Conv2D(20, kernel_size=(3,3), strides=(3,3), activation='selu')(e)\n",
    "e = Dropout(0.25)(e)\n",
    "e = Flatten()(e)\n",
    "\n",
    "# hCal\n",
    "h = BatchNormalization()(inputhCal)\n",
    "h = Conv2D(20, kernel_size=(3, 3), data_format=\"channels_last\", strides=(3, 3), activation='selu', input_shape=(5,5,1))(h)\n",
    "h = Dropout(0.25)(h)\n",
    "h = Flatten()(h)"
   ]
  },
  {
   "cell_type": "code",
   "execution_count": 29,
   "metadata": {},
   "outputs": [],
   "source": [
    "# track image\n",
    "t = BatchNormalization()(inputTrk)\n",
    "t = Conv2D(30, kernel_size=(3, 3), data_format=\"channels_last\", strides=(3, 3), activation='selu', input_shape=(25,25,1))(t)\n",
    "t = Dropout(0.25)(t)\n",
    "t = Conv2D(20, kernel_size=(3,3), strides=(3, 3), activation='selu')(t)\n",
    "t = Dropout(0.25)(t)\n",
    "t = Flatten()(t)"
   ]
  },
  {
   "cell_type": "code",
   "execution_count": 30,
   "metadata": {},
   "outputs": [],
   "source": [
    "# tracklist conv1d\n",
    "tl1 = BatchNormalization()(inputList)\n",
    "tl1 = Reshape((50,3))(tl1)\n",
    "tl1 = Conv1D(3, kernel_size=(3), strides=(3),activation='selu',padding='same')(tl1)\n",
    "tl1 = Dropout(0.25)(tl1)\n",
    "tl1 = Flatten()(tl1)"
   ]
  },
  {
   "cell_type": "code",
   "execution_count": 31,
   "metadata": {},
   "outputs": [
    {
     "name": "stdout",
     "output_type": "stream",
     "text": [
      "(?, 50, 3, 1)\n"
     ]
    }
   ],
   "source": [
    "# tracklist gRU\n",
    "tlg = BatchNormalization()(inputList)\n",
    "print(tlg.shape)\n",
    "tlg = Reshape((50,3))(tlg)\n",
    "tlg = GRU(3, activation='selu', recurrent_activation='hard_sigmoid')(tlg)"
   ]
  },
  {
   "cell_type": "code",
   "execution_count": 32,
   "metadata": {},
   "outputs": [],
   "source": [
    "# image output\n",
    "denseImg = Concatenate(axis=1)([x2, e, h, t])\n",
    "denseImg = Dense(20, activation='selu')(denseImg)\n",
    "denseImg = Dropout(0.25)(denseImg)\n",
    "denseImg = Dense(10, activation='selu')(denseImg)\n",
    "denseImg = Dropout(0.25)(denseImg)\n",
    "outputImg = Dense(1, activation='linear')(denseImg)"
   ]
  },
  {
   "cell_type": "code",
   "execution_count": 33,
   "metadata": {},
   "outputs": [],
   "source": [
    "# conv1d output\n",
    "denseConv = Concatenate(axis=1)([x2, e, h, tl1])\n",
    "denseConv = Dense(20, activation='selu')(denseConv)\n",
    "denseConv = Dropout(0.25)(denseConv)\n",
    "denseConv = Dense(10, activation='selu')(denseConv)\n",
    "denseConv = Dropout(0.25)(denseConv)\n",
    "outputConv = Dense(1, activation='linear')(denseConv)"
   ]
  },
  {
   "cell_type": "code",
   "execution_count": 34,
   "metadata": {},
   "outputs": [],
   "source": [
    "# GRU output\n",
    "denseGRU = Concatenate(axis=1)([x2, e, h, tlg])\n",
    "denseGRU = Dense(20, activation='selu')(denseGRU)\n",
    "denseGRU = Dropout(0.25)(denseGRU)\n",
    "denseGRU = Dense(10, activation='selu')(denseGRU)\n",
    "denseGRU = Dropout(0.25)(denseGRU)\n",
    "outputGRU = Dense(1, activation='linear')(denseGRU)"
   ]
  },
  {
   "cell_type": "code",
   "execution_count": 35,
   "metadata": {},
   "outputs": [],
   "source": [
    "# Image model\n",
    "modelImg = Model(inputs=[InputRaw,inputeCal, inputhCal, inputTrk, inputList], outputs=outputImg)"
   ]
  },
  {
   "cell_type": "code",
   "execution_count": 36,
   "metadata": {},
   "outputs": [],
   "source": [
    "# Conv1d model\n",
    "modelConv = Model(inputs=[InputRaw,inputeCal, inputhCal, inputTrk, inputList], outputs=outputConv)"
   ]
  },
  {
   "cell_type": "code",
   "execution_count": 37,
   "metadata": {},
   "outputs": [],
   "source": [
    "# GRU model\n",
    "modelGRU = Model(inputs=[InputRaw,inputeCal, inputhCal, inputTrk, inputList], outputs=outputGRU)"
   ]
  },
  {
   "cell_type": "code",
   "execution_count": 38,
   "metadata": {
    "scrolled": true
   },
   "outputs": [
    {
     "name": "stdout",
     "output_type": "stream",
     "text": [
      "__________________________________________________________________________________________________\n",
      "Layer (type)                    Output Shape         Param #     Connected to                     \n",
      "==================================================================================================\n",
      "input_2 (InputLayer)            (None, 25, 25, 1)    0                                            \n",
      "__________________________________________________________________________________________________\n",
      "input_4 (InputLayer)            (None, 25, 25, 1)    0                                            \n",
      "__________________________________________________________________________________________________\n",
      "batch_normalization_2 (BatchNor (None, 25, 25, 1)    4           input_2[0][0]                    \n",
      "__________________________________________________________________________________________________\n",
      "batch_normalization_4 (BatchNor (None, 25, 25, 1)    4           input_4[0][0]                    \n",
      "__________________________________________________________________________________________________\n",
      "conv2d_1 (Conv2D)               (None, 8, 8, 30)     300         batch_normalization_2[0][0]      \n",
      "__________________________________________________________________________________________________\n",
      "input_3 (InputLayer)            (None, 5, 5, 1)      0                                            \n",
      "__________________________________________________________________________________________________\n",
      "conv2d_4 (Conv2D)               (None, 8, 8, 30)     300         batch_normalization_4[0][0]      \n",
      "__________________________________________________________________________________________________\n",
      "dropout_1 (Dropout)             (None, 8, 8, 30)     0           conv2d_1[0][0]                   \n",
      "__________________________________________________________________________________________________\n",
      "batch_normalization_3 (BatchNor (None, 5, 5, 1)      4           input_3[0][0]                    \n",
      "__________________________________________________________________________________________________\n",
      "dropout_4 (Dropout)             (None, 8, 8, 30)     0           conv2d_4[0][0]                   \n",
      "__________________________________________________________________________________________________\n",
      "conv2d_2 (Conv2D)               (None, 2, 2, 20)     5420        dropout_1[0][0]                  \n",
      "__________________________________________________________________________________________________\n",
      "conv2d_3 (Conv2D)               (None, 1, 1, 20)     200         batch_normalization_3[0][0]      \n",
      "__________________________________________________________________________________________________\n",
      "conv2d_5 (Conv2D)               (None, 2, 2, 20)     5420        dropout_4[0][0]                  \n",
      "__________________________________________________________________________________________________\n",
      "input_1 (InputLayer)            (None, 4)            0                                            \n",
      "__________________________________________________________________________________________________\n",
      "dropout_2 (Dropout)             (None, 2, 2, 20)     0           conv2d_2[0][0]                   \n",
      "__________________________________________________________________________________________________\n",
      "dropout_3 (Dropout)             (None, 1, 1, 20)     0           conv2d_3[0][0]                   \n",
      "__________________________________________________________________________________________________\n",
      "dropout_5 (Dropout)             (None, 2, 2, 20)     0           conv2d_5[0][0]                   \n",
      "__________________________________________________________________________________________________\n",
      "batch_normalization_1 (BatchNor (None, 4)            16          input_1[0][0]                    \n",
      "__________________________________________________________________________________________________\n",
      "flatten_1 (Flatten)             (None, 80)           0           dropout_2[0][0]                  \n",
      "__________________________________________________________________________________________________\n",
      "flatten_2 (Flatten)             (None, 20)           0           dropout_3[0][0]                  \n",
      "__________________________________________________________________________________________________\n",
      "flatten_3 (Flatten)             (None, 80)           0           dropout_5[0][0]                  \n",
      "__________________________________________________________________________________________________\n",
      "concatenate_1 (Concatenate)     (None, 184)          0           batch_normalization_1[0][0]      \n",
      "                                                                 flatten_1[0][0]                  \n",
      "                                                                 flatten_2[0][0]                  \n",
      "                                                                 flatten_3[0][0]                  \n",
      "__________________________________________________________________________________________________\n",
      "dense_1 (Dense)                 (None, 20)           3700        concatenate_1[0][0]              \n",
      "__________________________________________________________________________________________________\n",
      "dropout_7 (Dropout)             (None, 20)           0           dense_1[0][0]                    \n",
      "__________________________________________________________________________________________________\n",
      "dense_2 (Dense)                 (None, 10)           210         dropout_7[0][0]                  \n",
      "__________________________________________________________________________________________________\n",
      "dropout_8 (Dropout)             (None, 10)           0           dense_2[0][0]                    \n",
      "__________________________________________________________________________________________________\n",
      "dense_3 (Dense)                 (None, 1)            11          dropout_8[0][0]                  \n",
      "==================================================================================================\n",
      "Total params: 15,589\n",
      "Trainable params: 15,575\n",
      "Non-trainable params: 14\n",
      "__________________________________________________________________________________________________\n"
     ]
    }
   ],
   "source": [
    "modelImg.compile(loss='mse', optimizer='adam')\n",
    "modelImg.summary()"
   ]
  },
  {
   "cell_type": "code",
   "execution_count": 39,
   "metadata": {
    "scrolled": true
   },
   "outputs": [
    {
     "name": "stdout",
     "output_type": "stream",
     "text": [
      "__________________________________________________________________________________________________\n",
      "Layer (type)                    Output Shape         Param #     Connected to                     \n",
      "==================================================================================================\n",
      "input_2 (InputLayer)            (None, 25, 25, 1)    0                                            \n",
      "__________________________________________________________________________________________________\n",
      "batch_normalization_2 (BatchNor (None, 25, 25, 1)    4           input_2[0][0]                    \n",
      "__________________________________________________________________________________________________\n",
      "input_5 (InputLayer)            (None, 50, 3, 1)     0                                            \n",
      "__________________________________________________________________________________________________\n",
      "conv2d_1 (Conv2D)               (None, 8, 8, 30)     300         batch_normalization_2[0][0]      \n",
      "__________________________________________________________________________________________________\n",
      "input_3 (InputLayer)            (None, 5, 5, 1)      0                                            \n",
      "__________________________________________________________________________________________________\n",
      "batch_normalization_5 (BatchNor (None, 50, 3, 1)     4           input_5[0][0]                    \n",
      "__________________________________________________________________________________________________\n",
      "dropout_1 (Dropout)             (None, 8, 8, 30)     0           conv2d_1[0][0]                   \n",
      "__________________________________________________________________________________________________\n",
      "batch_normalization_3 (BatchNor (None, 5, 5, 1)      4           input_3[0][0]                    \n",
      "__________________________________________________________________________________________________\n",
      "reshape_1 (Reshape)             (None, 50, 3)        0           batch_normalization_5[0][0]      \n",
      "__________________________________________________________________________________________________\n",
      "conv2d_2 (Conv2D)               (None, 2, 2, 20)     5420        dropout_1[0][0]                  \n",
      "__________________________________________________________________________________________________\n",
      "conv2d_3 (Conv2D)               (None, 1, 1, 20)     200         batch_normalization_3[0][0]      \n",
      "__________________________________________________________________________________________________\n",
      "conv1d_1 (Conv1D)               (None, 17, 3)        30          reshape_1[0][0]                  \n",
      "__________________________________________________________________________________________________\n",
      "input_1 (InputLayer)            (None, 4)            0                                            \n",
      "__________________________________________________________________________________________________\n",
      "dropout_2 (Dropout)             (None, 2, 2, 20)     0           conv2d_2[0][0]                   \n",
      "__________________________________________________________________________________________________\n",
      "dropout_3 (Dropout)             (None, 1, 1, 20)     0           conv2d_3[0][0]                   \n",
      "__________________________________________________________________________________________________\n",
      "dropout_6 (Dropout)             (None, 17, 3)        0           conv1d_1[0][0]                   \n",
      "__________________________________________________________________________________________________\n",
      "batch_normalization_1 (BatchNor (None, 4)            16          input_1[0][0]                    \n",
      "__________________________________________________________________________________________________\n",
      "flatten_1 (Flatten)             (None, 80)           0           dropout_2[0][0]                  \n",
      "__________________________________________________________________________________________________\n",
      "flatten_2 (Flatten)             (None, 20)           0           dropout_3[0][0]                  \n",
      "__________________________________________________________________________________________________\n",
      "flatten_4 (Flatten)             (None, 51)           0           dropout_6[0][0]                  \n",
      "__________________________________________________________________________________________________\n",
      "concatenate_2 (Concatenate)     (None, 155)          0           batch_normalization_1[0][0]      \n",
      "                                                                 flatten_1[0][0]                  \n",
      "                                                                 flatten_2[0][0]                  \n",
      "                                                                 flatten_4[0][0]                  \n",
      "__________________________________________________________________________________________________\n",
      "dense_4 (Dense)                 (None, 20)           3120        concatenate_2[0][0]              \n",
      "__________________________________________________________________________________________________\n",
      "dropout_9 (Dropout)             (None, 20)           0           dense_4[0][0]                    \n",
      "__________________________________________________________________________________________________\n",
      "dense_5 (Dense)                 (None, 10)           210         dropout_9[0][0]                  \n",
      "__________________________________________________________________________________________________\n",
      "dropout_10 (Dropout)            (None, 10)           0           dense_5[0][0]                    \n",
      "__________________________________________________________________________________________________\n",
      "dense_6 (Dense)                 (None, 1)            11          dropout_10[0][0]                 \n",
      "==================================================================================================\n",
      "Total params: 9,319\n",
      "Trainable params: 9,305\n",
      "Non-trainable params: 14\n",
      "__________________________________________________________________________________________________\n"
     ]
    }
   ],
   "source": [
    "modelConv.compile(loss='mse', optimizer='adam')\n",
    "modelConv.summary()"
   ]
  },
  {
   "cell_type": "code",
   "execution_count": 40,
   "metadata": {
    "scrolled": true
   },
   "outputs": [
    {
     "name": "stdout",
     "output_type": "stream",
     "text": [
      "__________________________________________________________________________________________________\n",
      "Layer (type)                    Output Shape         Param #     Connected to                     \n",
      "==================================================================================================\n",
      "input_2 (InputLayer)            (None, 25, 25, 1)    0                                            \n",
      "__________________________________________________________________________________________________\n",
      "batch_normalization_2 (BatchNor (None, 25, 25, 1)    4           input_2[0][0]                    \n",
      "__________________________________________________________________________________________________\n",
      "conv2d_1 (Conv2D)               (None, 8, 8, 30)     300         batch_normalization_2[0][0]      \n",
      "__________________________________________________________________________________________________\n",
      "input_3 (InputLayer)            (None, 5, 5, 1)      0                                            \n",
      "__________________________________________________________________________________________________\n",
      "dropout_1 (Dropout)             (None, 8, 8, 30)     0           conv2d_1[0][0]                   \n",
      "__________________________________________________________________________________________________\n",
      "batch_normalization_3 (BatchNor (None, 5, 5, 1)      4           input_3[0][0]                    \n",
      "__________________________________________________________________________________________________\n",
      "input_5 (InputLayer)            (None, 50, 3, 1)     0                                            \n",
      "__________________________________________________________________________________________________\n",
      "conv2d_2 (Conv2D)               (None, 2, 2, 20)     5420        dropout_1[0][0]                  \n",
      "__________________________________________________________________________________________________\n",
      "conv2d_3 (Conv2D)               (None, 1, 1, 20)     200         batch_normalization_3[0][0]      \n",
      "__________________________________________________________________________________________________\n",
      "batch_normalization_6 (BatchNor (None, 50, 3, 1)     4           input_5[0][0]                    \n",
      "__________________________________________________________________________________________________\n",
      "input_1 (InputLayer)            (None, 4)            0                                            \n",
      "__________________________________________________________________________________________________\n",
      "dropout_2 (Dropout)             (None, 2, 2, 20)     0           conv2d_2[0][0]                   \n",
      "__________________________________________________________________________________________________\n",
      "dropout_3 (Dropout)             (None, 1, 1, 20)     0           conv2d_3[0][0]                   \n",
      "__________________________________________________________________________________________________\n",
      "reshape_2 (Reshape)             (None, 50, 3)        0           batch_normalization_6[0][0]      \n",
      "__________________________________________________________________________________________________\n",
      "batch_normalization_1 (BatchNor (None, 4)            16          input_1[0][0]                    \n",
      "__________________________________________________________________________________________________\n",
      "flatten_1 (Flatten)             (None, 80)           0           dropout_2[0][0]                  \n",
      "__________________________________________________________________________________________________\n",
      "flatten_2 (Flatten)             (None, 20)           0           dropout_3[0][0]                  \n",
      "__________________________________________________________________________________________________\n",
      "gru_1 (GRU)                     (None, 3)            63          reshape_2[0][0]                  \n",
      "__________________________________________________________________________________________________\n",
      "concatenate_3 (Concatenate)     (None, 107)          0           batch_normalization_1[0][0]      \n",
      "                                                                 flatten_1[0][0]                  \n",
      "                                                                 flatten_2[0][0]                  \n",
      "                                                                 gru_1[0][0]                      \n",
      "__________________________________________________________________________________________________\n",
      "dense_7 (Dense)                 (None, 20)           2160        concatenate_3[0][0]              \n",
      "__________________________________________________________________________________________________\n",
      "dropout_11 (Dropout)            (None, 20)           0           dense_7[0][0]                    \n",
      "__________________________________________________________________________________________________\n",
      "dense_8 (Dense)                 (None, 10)           210         dropout_11[0][0]                 \n",
      "__________________________________________________________________________________________________\n",
      "dropout_12 (Dropout)            (None, 10)           0           dense_8[0][0]                    \n",
      "__________________________________________________________________________________________________\n",
      "dense_9 (Dense)                 (None, 1)            11          dropout_12[0][0]                 \n",
      "==================================================================================================\n",
      "Total params: 8,392\n",
      "Trainable params: 8,378\n",
      "Non-trainable params: 14\n",
      "__________________________________________________________________________________________________\n"
     ]
    }
   ],
   "source": [
    "modelGRU.compile(loss='mse', optimizer='adam')\n",
    "modelGRU.summary()"
   ]
  },
  {
   "cell_type": "code",
   "execution_count": 41,
   "metadata": {
    "scrolled": true
   },
   "outputs": [
    {
     "name": "stdout",
     "output_type": "stream",
     "text": [
      "Train on 111946 samples, validate on 47977 samples\n",
      "Epoch 1/100\n",
      "111946/111946 [==============================] - 9s 77us/step - loss: 0.0549 - val_loss: 2.2284e-04\n",
      "Epoch 2/100\n",
      "111946/111946 [==============================] - 7s 62us/step - loss: 0.0021 - val_loss: 1.5983e-04\n",
      "Epoch 3/100\n",
      "111946/111946 [==============================] - 7s 60us/step - loss: 8.3277e-04 - val_loss: 1.4400e-04\n",
      "\n",
      "Epoch 00003: ReduceLROnPlateau reducing learning rate to 0.00010000000474974513.\n",
      "Epoch 4/100\n",
      "111946/111946 [==============================] - 7s 61us/step - loss: 5.9155e-04 - val_loss: 1.2984e-04\n",
      "Epoch 5/100\n",
      "111946/111946 [==============================] - 7s 62us/step - loss: 5.5082e-04 - val_loss: 1.2575e-04\n",
      "\n",
      "Epoch 00005: ReduceLROnPlateau reducing learning rate to 1.0000000474974514e-05.\n",
      "Epoch 6/100\n",
      "111946/111946 [==============================] - 7s 61us/step - loss: 5.1226e-04 - val_loss: 1.2395e-04\n",
      "Epoch 7/100\n",
      "111946/111946 [==============================] - 7s 61us/step - loss: 5.0701e-04 - val_loss: 1.3267e-04\n",
      "\n",
      "Epoch 00007: ReduceLROnPlateau reducing learning rate to 1.0000000656873453e-06.\n",
      "Epoch 8/100\n",
      "111946/111946 [==============================] - 7s 61us/step - loss: 5.1568e-04 - val_loss: 1.2842e-04\n",
      "Epoch 9/100\n",
      "111946/111946 [==============================] - 7s 61us/step - loss: 5.1366e-04 - val_loss: 1.2870e-04\n",
      "\n",
      "Epoch 00009: ReduceLROnPlateau reducing learning rate to 1.0000001111620805e-07.\n",
      "Epoch 10/100\n",
      "111946/111946 [==============================] - 7s 62us/step - loss: 5.0084e-04 - val_loss: 1.2923e-04\n",
      "Epoch 11/100\n",
      "111946/111946 [==============================] - 7s 61us/step - loss: 5.0134e-04 - val_loss: 1.2949e-04\n",
      "\n",
      "Epoch 00011: ReduceLROnPlateau reducing learning rate to 1.000000082740371e-08.\n",
      "Epoch 12/100\n",
      "111946/111946 [==============================] - 7s 62us/step - loss: 5.0625e-04 - val_loss: 1.2782e-04\n",
      "Epoch 13/100\n",
      "111946/111946 [==============================] - 7s 62us/step - loss: 5.0181e-04 - val_loss: 1.2826e-04\n",
      "\n",
      "Epoch 00013: ReduceLROnPlateau reducing learning rate to 1.000000082740371e-09.\n",
      "Epoch 14/100\n",
      "111946/111946 [==============================] - 7s 62us/step - loss: 5.0698e-04 - val_loss: 1.3098e-04\n",
      "Epoch 15/100\n",
      "111946/111946 [==============================] - 7s 62us/step - loss: 5.0250e-04 - val_loss: 1.3649e-04\n",
      "\n",
      "Epoch 00015: ReduceLROnPlateau reducing learning rate to 1.000000082740371e-10.\n",
      "Epoch 16/100\n",
      "111946/111946 [==============================] - 7s 62us/step - loss: 4.9707e-04 - val_loss: 1.3402e-04\n",
      "Epoch 00016: early stopping\n"
     ]
    }
   ],
   "source": [
    "# train image model \n",
    "historyImg = modelImg.fit([raw_train, eCal_image_train, hCal_image_train, trk_image_train, lst_train], y_train, epochs=100, batch_size=batch_size, verbose = 1,\n",
    "                validation_data=([raw_test, eCal_image_test, hCal_image_test, trk_image_test, lst_test], y_test),\n",
    "                callbacks = [\n",
    "                EarlyStopping(monitor='val_loss', patience=10, verbose=1),\n",
    "                ReduceLROnPlateau(monitor='val_loss', factor=0.1, patience=2, verbose=1),\n",
    "                TerminateOnNaN()])"
   ]
  },
  {
   "cell_type": "code",
   "execution_count": 42,
   "metadata": {
    "scrolled": true
   },
   "outputs": [
    {
     "name": "stdout",
     "output_type": "stream",
     "text": [
      "Train on 111946 samples, validate on 47977 samples\n",
      "Epoch 1/100\n",
      "111946/111946 [==============================] - 7s 65us/step - loss: 0.0737 - val_loss: 2.9661e-04\n",
      "Epoch 2/100\n",
      "111946/111946 [==============================] - 6s 57us/step - loss: 0.0029 - val_loss: 1.8551e-04\n",
      "Epoch 3/100\n",
      "111946/111946 [==============================] - 6s 57us/step - loss: 0.0012 - val_loss: 1.5876e-04\n",
      "Epoch 4/100\n",
      "111946/111946 [==============================] - 6s 57us/step - loss: 6.7827e-04 - val_loss: 1.3486e-04\n",
      "\n",
      "Epoch 00004: ReduceLROnPlateau reducing learning rate to 0.00010000000474974513.\n",
      "Epoch 5/100\n",
      "111946/111946 [==============================] - 6s 58us/step - loss: 5.1771e-04 - val_loss: 1.2687e-04\n",
      "Epoch 6/100\n",
      "111946/111946 [==============================] - 6s 58us/step - loss: 4.9051e-04 - val_loss: 1.1908e-04\n",
      "\n",
      "Epoch 00006: ReduceLROnPlateau reducing learning rate to 1.0000000474974514e-05.\n",
      "Epoch 7/100\n",
      "111946/111946 [==============================] - 6s 57us/step - loss: 4.7488e-04 - val_loss: 1.1417e-04\n",
      "Epoch 8/100\n",
      "111946/111946 [==============================] - 6s 57us/step - loss: 4.7527e-04 - val_loss: 1.1760e-04\n",
      "\n",
      "Epoch 00008: ReduceLROnPlateau reducing learning rate to 1.0000000656873453e-06.\n",
      "Epoch 9/100\n",
      "111946/111946 [==============================] - 6s 57us/step - loss: 4.6025e-04 - val_loss: 1.1203e-04\n",
      "Epoch 10/100\n",
      "111946/111946 [==============================] - 6s 58us/step - loss: 4.7150e-04 - val_loss: 1.2510e-04\n",
      "\n",
      "Epoch 00010: ReduceLROnPlateau reducing learning rate to 1.0000001111620805e-07.\n",
      "Epoch 11/100\n",
      "111946/111946 [==============================] - 6s 58us/step - loss: 4.6705e-04 - val_loss: 1.2090e-04\n",
      "Epoch 12/100\n",
      "111946/111946 [==============================] - 6s 58us/step - loss: 4.6170e-04 - val_loss: 1.2265e-04\n",
      "\n",
      "Epoch 00012: ReduceLROnPlateau reducing learning rate to 1.000000082740371e-08.\n",
      "Epoch 13/100\n",
      "111946/111946 [==============================] - 6s 58us/step - loss: 4.5591e-04 - val_loss: 1.1117e-04\n",
      "Epoch 14/100\n",
      "111946/111946 [==============================] - 6s 57us/step - loss: 4.5812e-04 - val_loss: 1.1275e-04\n",
      "\n",
      "Epoch 00014: ReduceLROnPlateau reducing learning rate to 1.000000082740371e-09.\n",
      "Epoch 15/100\n",
      "111946/111946 [==============================] - 6s 55us/step - loss: 4.6041e-04 - val_loss: 1.1904e-04\n",
      "Epoch 16/100\n",
      "111946/111946 [==============================] - 6s 55us/step - loss: 4.6317e-04 - val_loss: 1.2326e-04\n",
      "\n",
      "Epoch 00016: ReduceLROnPlateau reducing learning rate to 1.000000082740371e-10.\n",
      "Epoch 17/100\n",
      "111946/111946 [==============================] - 6s 55us/step - loss: 4.6853e-04 - val_loss: 1.1972e-04\n",
      "Epoch 18/100\n",
      "111946/111946 [==============================] - 6s 55us/step - loss: 4.6165e-04 - val_loss: 1.1765e-04\n",
      "\n",
      "Epoch 00018: ReduceLROnPlateau reducing learning rate to 1.000000082740371e-11.\n",
      "Epoch 19/100\n",
      "111946/111946 [==============================] - 6s 56us/step - loss: 4.5945e-04 - val_loss: 1.2187e-04\n",
      "Epoch 20/100\n",
      "111946/111946 [==============================] - 6s 56us/step - loss: 4.7210e-04 - val_loss: 1.1512e-04\n",
      "\n",
      "Epoch 00020: ReduceLROnPlateau reducing learning rate to 1.000000082740371e-12.\n",
      "Epoch 21/100\n",
      "111946/111946 [==============================] - 6s 55us/step - loss: 4.6255e-04 - val_loss: 1.2103e-04\n",
      "Epoch 22/100\n",
      "111946/111946 [==============================] - 6s 55us/step - loss: 4.7103e-04 - val_loss: 1.1263e-04\n",
      "\n",
      "Epoch 00022: ReduceLROnPlateau reducing learning rate to 1.0000001044244145e-13.\n",
      "Epoch 23/100\n",
      "111946/111946 [==============================] - 6s 56us/step - loss: 4.6724e-04 - val_loss: 1.1724e-04\n",
      "Epoch 00023: early stopping\n"
     ]
    }
   ],
   "source": [
    "# Train conv1d model\n",
    "historyConv = modelConv.fit([raw_train, eCal_image_train, hCal_image_train, trk_image_train, lst_train], y_train, epochs=100, batch_size=batch_size, verbose = 1,\n",
    "                validation_data=([raw_test, eCal_image_test, hCal_image_test, trk_image_test, lst_test], y_test),\n",
    "                callbacks = [\n",
    "                EarlyStopping(monitor='val_loss', patience=10, verbose=1),\n",
    "                ReduceLROnPlateau(monitor='val_loss', factor=0.1, patience=2, verbose=1),\n",
    "                TerminateOnNaN()])"
   ]
  },
  {
   "cell_type": "code",
   "execution_count": 43,
   "metadata": {
    "scrolled": true
   },
   "outputs": [
    {
     "name": "stdout",
     "output_type": "stream",
     "text": [
      "Train on 111946 samples, validate on 47977 samples\n",
      "Epoch 1/100\n",
      "111946/111946 [==============================] - 39s 345us/step - loss: 0.0128 - val_loss: 1.2862e-04\n",
      "Epoch 2/100\n",
      "111946/111946 [==============================] - 38s 336us/step - loss: 6.9821e-04 - val_loss: 1.0008e-04\n",
      "Epoch 3/100\n",
      "111946/111946 [==============================] - 37s 335us/step - loss: 3.6567e-04 - val_loss: 8.6413e-05\n",
      "\n",
      "Epoch 00003: ReduceLROnPlateau reducing learning rate to 0.00010000000474974513.\n",
      "Epoch 4/100\n",
      "111946/111946 [==============================] - 37s 333us/step - loss: 2.8476e-04 - val_loss: 9.4904e-05\n",
      "Epoch 5/100\n",
      "111946/111946 [==============================] - 37s 334us/step - loss: 2.8074e-04 - val_loss: 1.0124e-04\n",
      "\n",
      "Epoch 00005: ReduceLROnPlateau reducing learning rate to 1.0000000474974514e-05.\n",
      "Epoch 6/100\n",
      "111946/111946 [==============================] - 37s 334us/step - loss: 2.7280e-04 - val_loss: 9.2139e-05\n",
      "Epoch 7/100\n",
      "111946/111946 [==============================] - 38s 335us/step - loss: 2.6883e-04 - val_loss: 9.3369e-05\n",
      "\n",
      "Epoch 00007: ReduceLROnPlateau reducing learning rate to 1.0000000656873453e-06.\n",
      "Epoch 8/100\n",
      "111946/111946 [==============================] - 37s 334us/step - loss: 2.6475e-04 - val_loss: 9.5169e-05\n",
      "Epoch 9/100\n",
      "111946/111946 [==============================] - 37s 334us/step - loss: 2.6053e-04 - val_loss: 9.6737e-05\n",
      "\n",
      "Epoch 00009: ReduceLROnPlateau reducing learning rate to 1.0000001111620805e-07.\n",
      "Epoch 10/100\n",
      "111946/111946 [==============================] - 37s 334us/step - loss: 2.6431e-04 - val_loss: 9.6516e-05\n",
      "Epoch 11/100\n",
      "111946/111946 [==============================] - 38s 336us/step - loss: 2.6341e-04 - val_loss: 9.5342e-05\n",
      "\n",
      "Epoch 00011: ReduceLROnPlateau reducing learning rate to 1.000000082740371e-08.\n",
      "Epoch 12/100\n",
      "111946/111946 [==============================] - 37s 335us/step - loss: 2.6768e-04 - val_loss: 9.5652e-05\n",
      "Epoch 13/100\n",
      "111946/111946 [==============================] - 38s 336us/step - loss: 2.6939e-04 - val_loss: 9.5702e-05\n",
      "\n",
      "Epoch 00013: ReduceLROnPlateau reducing learning rate to 1.000000082740371e-09.\n",
      "Epoch 00013: early stopping\n"
     ]
    }
   ],
   "source": [
    "# Train GRU model\n",
    "historyGRU = modelGRU.fit([raw_train, eCal_image_train, hCal_image_train, trk_image_train, lst_train], y_train, epochs=100, batch_size=batch_size, verbose = 1,\n",
    "                validation_data=([raw_test, eCal_image_test, hCal_image_test, trk_image_test, lst_test], y_test),\n",
    "                callbacks = [\n",
    "                EarlyStopping(monitor='val_loss', patience=10, verbose=1),\n",
    "                ReduceLROnPlateau(monitor='val_loss', factor=0.1, patience=2, verbose=1),\n",
    "                TerminateOnNaN()])"
   ]
  },
  {
   "cell_type": "markdown",
   "metadata": {},
   "source": [
    "# Analysis"
   ]
  },
  {
   "cell_type": "code",
   "execution_count": 44,
   "metadata": {},
   "outputs": [
    {
     "data": {
      "image/png": "[encoded data removed]",
      "text/plain": [
       "<Figure size 432x288 with 1 Axes>"
      ]
     },
     "metadata": {},
     "output_type": "display_data"
    }
   ],
   "source": [
    "# plot training histories\n",
    "plt.plot(historyImg.history['loss'])\n",
    "plt.plot(historyImg.history['val_loss'])\n",
    "plt.plot(historyConv.history['loss'])\n",
    "plt.plot(historyConv.history['val_loss'])\n",
    "plt.plot(historyGRU.history['loss'])\n",
    "plt.plot(historyGRU.history['val_loss'])\n",
    "plt.yscale('log')\n",
    "plt.title('model loss')\n",
    "plt.ylabel('loss')\n",
    "plt.xlabel('epoch')\n",
    "plt.legend(['image train', 'image test', 'conv train', 'conv test','gru train','gru test'], loc='upper left')\n",
    "plt.show()\n",
    "#"
   ]
  },
  {
   "cell_type": "code",
   "execution_count": 45,
   "metadata": {},
   "outputs": [],
   "source": [
    "# image prediction\n",
    "ImgPredict = modelImg.predict([raw_test, eCal_image_test, hCal_image_test, trk_image_test, lst_test])\n",
    "ImgPredict = np.reshape(ImgPredict, (ImgPredict.shape[0],))"
   ]
  },
  {
   "cell_type": "code",
   "execution_count": 46,
   "metadata": {},
   "outputs": [],
   "source": [
    "# conv1d prediction\n",
    "ConvPredict = modelConv.predict([raw_test, eCal_image_test, hCal_image_test, trk_image_test, lst_test])\n",
    "ConvPredict = np.reshape(ConvPredict, (ConvPredict.shape[0],))"
   ]
  },
  {
   "cell_type": "code",
   "execution_count": 47,
   "metadata": {},
   "outputs": [],
   "source": [
    "# GRU prediction\n",
    "GRUPredict = modelGRU.predict([raw_test, eCal_image_test, hCal_image_test, trk_image_test, lst_test])\n",
    "GRUPredict = np.reshape(GRUPredict, (GRUPredict.shape[0],))"
   ]
  },
  {
   "cell_type": "code",
   "execution_count": 142,
   "metadata": {},
   "outputs": [],
   "source": [
    "#put pT back in its range\n",
    "pTraw = minVal[0] + raw_test[:,0]*(maxVal[0]-minVal[0])\n",
    "pTreco = minVal[0] + np.reshape(y_test, (y_test.shape[0],))*(maxVal[0]-minVal[0])\n",
    "ImgPredict = minVal[0] + ImgPredict*(maxVal[0]-minVal[0])\n",
    "ConvPredict = minVal[0] + ConvPredict*(maxVal[0]-minVal[0])\n",
    "GRUPredict = minVal[0] + GRUPredict*(maxVal[0]-minVal[0])"
   ]
  },
  {
   "cell_type": "code",
   "execution_count": 143,
   "metadata": {},
   "outputs": [
    {
     "name": "stdout",
     "output_type": "stream",
     "text": [
      "[29779.896 27148.213 21058.697 ... 31231.    21210.059 23372.648]\n",
      "[27540.908 22940.402 19244.863 ... 28439.504 17578.723 19026.   ]\n",
      "[32521.053 27182.297 14696.249 ... 36278.254 10786.595 18166.186]\n"
     ]
    },
    {
     "data": {
      "text/plain": [
       "array([32521, 27182, 14696, ..., 36278, 10786, 18166])"
      ]
     },
     "execution_count": 143,
     "metadata": {},
     "output_type": "execute_result"
    }
   ],
   "source": [
    "ImgPredict.astype(int)\n",
    "GRUPredict.astype(int)"
   ]
  },
  {
   "cell_type": "code",
   "execution_count": 191,
   "metadata": {},
   "outputs": [
    {
     "ename": "IndexError",
     "evalue": "too many indices for array",
     "output_type": "error",
     "traceback": [
      "\u001b[0;31m---------------------------------------------------------------------------\u001b[0m",
      "\u001b[0;31mIndexError\u001b[0m                                Traceback (most recent call last)",
      "\u001b[0;32m<ipython-input-191-f5f0ffb6477f>\u001b[0m in \u001b[0;36m<module>\u001b[0;34m()\u001b[0m\n\u001b[0;32m----> 1\u001b[0;31m \u001b[0my_test\u001b[0m \u001b[0;34m=\u001b[0m \u001b[0my_test\u001b[0m\u001b[0;34m[\u001b[0m\u001b[0;34m:\u001b[0m\u001b[0;34m,\u001b[0m\u001b[0;36m0\u001b[0m\u001b[0;34m]\u001b[0m\u001b[0;34m\u001b[0m\u001b[0m\n\u001b[0m",
      "\u001b[0;31mIndexError\u001b[0m: too many indices for array"
     ]
    }
   ],
   "source": [
    "y_test = y_test[:,0]"
   ]
  },
  {
   "cell_type": "code",
   "execution_count": 56,
   "metadata": {
    "scrolled": false
   },
   "outputs": [
    {
     "name": "stderr",
     "output_type": "stream",
     "text": [
      "/usr/local/anaconda3/lib/python3.6/site-packages/matplotlib/axes/_axes.py:6462: UserWarning: The 'normed' kwarg is deprecated, and has been replaced by the 'density' kwarg.\n",
      "  warnings.warn(\"The 'normed' kwarg is deprecated, and has been \"\n"
     ]
    },
    {
     "data": {
      "image/png": "[encoded data removed]",
      "text/plain": [
       "<Figure size 432x288 with 1 Axes>"
      ]
     },
     "metadata": {},
     "output_type": "display_data"
    },
    {
     "name": "stdout",
     "output_type": "stream",
     "text": [
      "RAW MEAN: -0.670721\n",
      "RAW RMS: 0.447598\n",
      "-------------------\n",
      "img CNN MEAN: -0.339778\n",
      "img CNN RMS: 0.441940\n",
      "-------------------\n",
      "conv CNN MEAN: -0.150253\n",
      "conv CNN RMS: 0.350974\n",
      "-------------------\n",
      "gru CNN MEAN: -0.085971\n",
      "gru CNN RMS: 0.208824\n"
     ]
    }
   ],
   "source": [
    "# plot resolutions\n",
    "plt.xlim(-4., 2.5)\n",
    "plt.ylim(0.,3.)\n",
    "resRaw = np.nan_to_num((pTreco-pTraw)/pTreco)\n",
    "ImgresCNN = np.nan_to_num((pTreco-ImgPredict)/pTreco)\n",
    "ConvresCNN = np.nan_to_num((pTreco-ConvPredict)/pTreco)\n",
    "GRUresCNN = np.nan_to_num((pTreco-GRUPredict)/pTreco)\n",
    "plt.hist(resRaw, bins = 500, normed=1, alpha = 0.6)\n",
    "plt.hist(ImgresCNN, bins = 500, normed=1, alpha = 0.5)\n",
    "plt.hist(ConvresCNN, bins = 500, normed=1, alpha = 0.5)\n",
    "plt.hist(GRUresCNN, bins = 500, normed=1, alpha = 0.6)\n",
    "plt.ylabel('Number of events')\n",
    "plt.xlabel('$\\Delta p_T/p_T$')\n",
    "plt.legend(['Raw Jet','Img CNN Regression','conv cnn reg','gru cnn res'], loc='upper left')\n",
    "plt.show()\n",
    "\n",
    "\n",
    "from scipy.stats import norm\n",
    "(mu, sigma) = norm.fit(resRaw)\n",
    "print(\"RAW MEAN: %f\" %mu)\n",
    "print(\"RAW RMS: %f\" %sigma)\n",
    "print(\"-------------------\")\n",
    "(mu, sigma) = norm.fit(ImgresCNN)\n",
    "print(\"img CNN MEAN: %f\" %mu)\n",
    "print(\"img CNN RMS: %f\" %sigma)\n",
    "print(\"-------------------\")\n",
    "(mu, sigma) = norm.fit(ConvresCNN)\n",
    "print(\"conv CNN MEAN: %f\" %mu)\n",
    "print(\"conv CNN RMS: %f\" %sigma)\n",
    "print(\"-------------------\")\n",
    "(mu, sigma) = norm.fit(GRUresCNN)\n",
    "print(\"gru CNN MEAN: %f\" %mu)\n",
    "print(\"gru CNN RMS: %f\" %sigma)"
   ]
  },
  {
   "cell_type": "code",
   "execution_count": 187,
   "metadata": {},
   "outputs": [
    {
     "name": "stdout",
     "output_type": "stream",
     "text": [
      "[54.95016861 35.20664597 18.18580055 ... 53.33313751 16.09989166\n",
      " 17.94204521]\n"
     ]
    },
    {
     "name": "stderr",
     "output_type": "stream",
     "text": [
      "/usr/local/anaconda3/lib/python3.6/site-packages/matplotlib/axes/_axes.py:6462: UserWarning: The 'normed' kwarg is deprecated, and has been replaced by the 'density' kwarg.\n",
      "  warnings.warn(\"The 'normed' kwarg is deprecated, and has been \"\n"
     ]
    },
    {
     "data": {
      "image/png": "[encoded data removed]",
      "text/plain": [
       "<Figure size 432x288 with 1 Axes>"
      ]
     },
     "metadata": {},
     "output_type": "display_data"
    }
   ],
   "source": [
    "print(y_test)\n",
    "a = y_test > 80\n",
    "b = y_test < 80\n",
    "plt.hist(ImgPredict[a], bins=200, normed=1)\n",
    "plt.hist(ImgPredict[b], bins=200, normed=1)\n",
    "plt.show()"
   ]
  },
  {
   "cell_type": "code",
   "execution_count": 190,
   "metadata": {},
   "outputs": [
    {
     "name": "stdout",
     "output_type": "stream",
     "text": [
      "Img True Positive Rate 0.960174\n",
      "Img False Positive Rate 0.018287\n"
     ]
    }
   ],
   "source": [
    "threshold1 = 35000\n",
    "myTestArray_sig_Img = ImgPredict[a] > threshold1\n",
    "myTestArray_bkg_Img = ImgPredict[b] > threshold1\n",
    "print(\"Img True Positive Rate %f\" %(myTestArray_sig_Img.sum()/float((a).sum())))\n",
    "print(\"Img False Positive Rate %f\" %(myTestArray_bkg_Img.sum()/float((b).sum())))"
   ]
  },
  {
   "cell_type": "code",
   "execution_count": 182,
   "metadata": {},
   "outputs": [
    {
     "name": "stdout",
     "output_type": "stream",
     "text": [
      "[ True  True  True ...  True  True  True]\n"
     ]
    },
    {
     "name": "stderr",
     "output_type": "stream",
     "text": [
      "/usr/local/anaconda3/lib/python3.6/site-packages/matplotlib/ticker.py:2198: UserWarning: Data has no positive values, and therefore cannot be log-scaled.\n",
      "  \"Data has no positive values, and therefore cannot be \"\n"
     ]
    },
    {
     "data": {
      "image/png": "[encoded data removed]",
      "text/plain": [
       "<Figure size 432x288 with 1 Axes>"
      ]
     },
     "metadata": {},
     "output_type": "display_data"
    },
    {
     "data": {
      "image/png": "[encoded data removed]",
      "text/plain": [
       "<Figure size 432x288 with 1 Axes>"
      ]
     },
     "metadata": {},
     "output_type": "display_data"
    },
    {
     "name": "stderr",
     "output_type": "stream",
     "text": [
      "/usr/local/anaconda3/lib/python3.6/site-packages/ipykernel_launcher.py:25: RuntimeWarning: invalid value encountered in true_divide\n"
     ]
    },
    {
     "data": {
      "image/png": "[encoded data removed]",
      "text/plain": [
       "<Figure size 432x288 with 1 Axes>"
      ]
     },
     "metadata": {},
     "output_type": "display_data"
    },
    {
     "name": "stdout",
     "output_type": "stream",
     "text": [
      "[0. 0. 0. 0. 0. 0. 0. 0. 0. 0. 0. 0. 0. 0. 0. 0. 0. 0. 0. 0. 0. 0. 0. 0.\n",
      " 0. 0. 0. 0. 0. 0. 0. 0. 0. 0. 0. 0. 0. 0. 0. 0. 0. 0. 0. 0. 0. 0. 0. 0.\n",
      " 0. 0. 0. 0. 0. 0. 0. 0. 0. 0. 0. 0. 0. 0. 0. 0. 0. 0. 0. 0. 0. 0. 0. 0.\n",
      " 0. 0. 0. 0. 0. 0. 0. 0. 0. 0. 0. 0. 0. 0. 0. 0. 0. 0. 0. 0. 0. 0. 0. 0.\n",
      " 0. 0. 0. 0. 0. 0. 0. 0. 0. 0. 0. 0. 0. 0. 0. 0. 0. 0. 0. 0. 0. 0. 0. 0.\n",
      " 0. 0. 0. 0. 0. 0. 0. 0. 0. 0. 0. 0. 0. 0. 0. 0. 0. 0. 0. 0. 0. 0. 0. 0.\n",
      " 0. 0. 0. 0. 0. 0. 0. 0. 0. 0. 0. 0. 0. 0. 0. 0. 0. 0. 0. 0. 0. 0. 0. 0.\n",
      " 0. 0. 0. 0. 0. 0. 0. 0. 0. 0. 0. 0. 0. 0. 0. 0. 0. 0. 0. 0. 0. 0. 0. 0.\n",
      " 0. 0. 0. 0. 0. 0. 0. 0.]\n",
      "[0. 0. 0. 0. 0. 0. 0. 0. 0. 0. 0. 0. 0. 0. 0. 0. 0. 0. 0. 0. 0. 0. 0. 0.\n",
      " 0. 0. 0. 0. 0. 0. 0. 0. 0. 0. 0. 0. 0. 0. 0. 0. 0. 0. 0. 0. 0. 0. 0. 0.\n",
      " 0. 0. 0. 0. 0. 0. 0. 0. 0. 0. 0. 0. 0. 0. 0. 0. 0. 0. 0. 0. 0. 0. 0. 0.\n",
      " 0. 0. 0. 0. 0. 0. 0. 0. 0. 0. 0. 0. 0. 0. 0. 0. 0. 0. 0. 0. 0. 0. 0. 0.\n",
      " 0. 0. 0. 0. 0. 0. 0. 0. 0. 0. 0. 0. 0. 0. 0. 0. 0. 0. 0. 0. 0. 0. 0. 0.\n",
      " 0. 0. 0. 0. 0. 0. 0. 0. 0. 0. 0. 0. 0. 0. 0. 0. 0. 0. 0. 0. 0. 0. 0. 0.\n",
      " 0. 0. 0. 0. 0. 0. 0. 0. 0. 0. 0. 0. 0. 0. 0. 0. 0. 0. 0. 0. 0. 0. 0. 0.\n",
      " 0. 0. 0. 0. 0. 0. 0. 0. 0. 0. 0. 0. 0. 0. 0. 0. 0. 0. 0. 0. 0. 0. 0. 0.\n",
      " 0. 0. 0. 0. 0. 0. 0. 0.]\n"
     ]
    }
   ],
   "source": [
    "# denominator: all jets \n",
    "alljet_pt = raw_test[:,0]\n",
    "alljet_pt = alljet_pt.reshape((len(alljet_pt),1))\n",
    "goodjets = ImgPredict>threshold1\n",
    "print(goodjets)\n",
    "goodjet_pt = alljet_pt[goodjets]\n",
    "countsAllJets, bins, bars = plt.hist(alljet_pt, bins=200, range=(0.,1))\n",
    "plt.xlabel(\"jet $p_T$ [GeV]\")\n",
    "plt.ylabel(\"Number of events\")\n",
    "plt.yscale('log')\n",
    "plt.show()\n",
    "# numerator: only jets estimated to be > 40 GeV (score ) \n",
    "countsGoodJets, bins, bars = plt.hist(goodjet_pt, bins=200, range=(0.,1))\n",
    "plt.xlabel(\"jet $p_T$ [GeV]\")\n",
    "plt.ylabel(\"Number of events\")\n",
    "plt.yscale('log')\n",
    "plt.show()\n",
    "# recenter the bins\n",
    "half_bin_width = (bins[1]-bins[0])/2.\n",
    "bins = bins - half_bin_width\n",
    "# rescale \n",
    "bins = minVal[0] + bins*(maxVal[0]-minVal[0])\n",
    "bins = bins[1:]\n",
    "# plot the ratio\n",
    "ratio = countsGoodJets/countsAllJets\n",
    "plt.plot(bins[0:10], ratio[0:10])\n",
    "plt.xlabel(\"jet $p_T$ [GeV]\")\n",
    "plt.ylabel(\"Number of events\")\n",
    "plt.show()\n",
    "print(countsGoodJets)\n",
    "print(countsAllJets)"
   ]
  },
  {
   "cell_type": "code",
   "execution_count": null,
   "metadata": {},
   "outputs": [],
   "source": []
  }
 ],
 "metadata": {
  "kernelspec": {
   "display_name": "Python 3",
   "language": "python",
   "name": "python3"
  },
  "language_info": {
   "codemirror_mode": {
    "name": "ipython",
    "version": 3
   },
   "file_extension": ".py",
   "mimetype": "text/x-python",
   "name": "python",
   "nbconvert_exporter": "python",
   "pygments_lexer": "ipython3",
   "version": "3.6.5"
  }
 },
 "nbformat": 4,
 "nbformat_minor": 2
}
